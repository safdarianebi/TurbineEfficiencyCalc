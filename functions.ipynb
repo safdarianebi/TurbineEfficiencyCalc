{
 "cells": [
  {
   "cell_type": "code",
   "execution_count": 1,
   "id": "844c0b77-d4bf-4d04-967f-430c568f044c",
   "metadata": {},
   "outputs": [],
   "source": [
    "import math\n",
    "import pandas as pd\n",
    "import numpy as np\n",
    "import matplotlib.pyplot as plt \n",
    "from matplotlib import pyplot as plt\n",
    "from ipynb.fs.full.project2 import properties"
   ]
  },
  {
   "cell_type": "markdown",
   "id": "47b8fdad-448d-4314-ae81-580c14d18bcc",
   "metadata": {},
   "source": [
    "# Thermodynamic Specifications"
   ]
  },
  {
   "cell_type": "markdown",
   "id": "47240dd0-88d1-44dc-8f88-c7f6e64eae33",
   "metadata": {},
   "source": [
    "# Aerodynamic Losses"
   ]
  },
  {
   "cell_type": "markdown",
   "id": "171b3597-703f-40ea-93c0-b41e53562414",
   "metadata": {},
   "source": [
    "In this section We are going to Calculate Aerodynamic losses. Aerodynamic losses are divided to below parts:"
   ]
  },
  {
   "cell_type": "markdown",
   "id": "924d5d39-c34f-4592-9f00-c780c5e12b87",
   "metadata": {},
   "source": [
    "## Profile Loss"
   ]
  },
  {
   "cell_type": "code",
   "execution_count": 2,
   "id": "5f45121c-037b-4630-9e6c-632cb75eea9f",
   "metadata": {},
   "outputs": [],
   "source": [
    "def i_sr(Beta2, landa):\n",
    "    A = 61.8-(1.6-Beta2/165)*Beta2\n",
    "    B = 71.9-1.69*Beta2\n",
    "    C = 7.8-(0.28-Beta2/320)*Beta2\n",
    "    D = 14.2-(0.16+Beta2/160)*Beta2\n",
    "    i_s0 = 20-(landa+1)/0.11\n",
    "\n",
    "    if Beta2 <= 40:\n",
    "        i = i_s0+A-B*landa**2+C*landa**3+D*landa**4\n",
    "    \n",
    "    else:\n",
    "        i = i_s0+((abs(i_sr(40, landa)-i_s0))*(abs(55-Beta2)))/15\n",
    "        \n",
    "    return i\n",
    "\n",
    "def di_s(s_c, Beta2):\n",
    "    X = s_c-0.75\n",
    "\n",
    "    if s_c <= 0.8:\n",
    "        di = -38*X-53.5*X**2-29*X**3\n",
    "    \n",
    "    else:\n",
    "        di = 2.0374-(s_c-0.8)*(69.58-(Beta2/14.48)**3.1)\n",
    "        \n",
    "    return di\n",
    "\n",
    "def K_inc(i, i_s):\n",
    "    if (i/i_s) < -3:\n",
    "        K = -1.39214-1.90738*(i/i_s)\n",
    "    \n",
    "    elif -3 <= (i/i_s) < 0:\n",
    "        K = 1+0.52*(abs(i/i_s))**1.7\n",
    "    \n",
    "    elif 0 <= (i/i_s) < 1.7:\n",
    "        K = 1+(i/i_s)**(2.3+0.5*(i/i_s))\n",
    "    \n",
    "    else:\n",
    "        K = 6.23-9.8577*((i/i_s)-1.7)\n",
    "        \n",
    "    return K"
   ]
  },
  {
   "cell_type": "code",
   "execution_count": 3,
   "id": "d9baae40-433e-4f63-bc21-4ab5d23172ad",
   "metadata": {},
   "outputs": [],
   "source": [
    "def K_M(s_Rc, M_w2):\n",
    "    if M_w2 <= 0.6:\n",
    "        K = 1\n",
    "    \n",
    "    elif 0.6 < M_w2 <= 1:\n",
    "        K = 1+(1.65*(M_w2-0.6)+24*(M_w2-0.6)**2)*(s_Rc)**(3*(M_w2-0.6))\n",
    "        \n",
    "    return K"
   ]
  },
  {
   "cell_type": "code",
   "execution_count": 4,
   "id": "01f424e9-d52f-4cc3-922a-09166164c89f",
   "metadata": {},
   "outputs": [],
   "source": [
    "def K_p(M_w1, M_w2):\n",
    "    if M_w2 <= 0.2:\n",
    "        K = 1\n",
    "    \n",
    "    else:\n",
    "        K1 = 1-0.625*((M_w2-0.2)+abs(M_w2-0.2))\n",
    "        K = 1-(1-K1)*(M_w1/M_w2)**2\n",
    "    \n",
    "    if K <= 0:\n",
    "        M_tilda_w1 = ((M_w1+0.566)-abs(0.566-M_w1))/2\n",
    "        M_tilda_w2 = ((M_w2+1)-abs(M_w2-1))/2\n",
    "        X = 2*M_tilda_w1/(M_tilda_w1+M_tilda_w2+abs(M_tilda_w2-M_tilda_w1))\n",
    "        K1 = 1-0.625*((M_w2-0.2)+abs(M_w2-0.2))\n",
    "        K = 1-(1-K1)*X**2\n",
    "        \n",
    "    if K <= 0.5:\n",
    "        print('K_p is not in the acceptable range: K_p > 0.5')\n",
    "        \n",
    "    return K"
   ]
  },
  {
   "cell_type": "code",
   "execution_count": 5,
   "id": "1ecd815c-07a0-4ba5-b5e7-d53f60219d31",
   "metadata": {},
   "outputs": [],
   "source": [
    "def K_Re(Re_c, Re_e=0):\n",
    "    if Re_e < 100:\n",
    "        if 1*10**5 <= Re_c <= 5*10**5:\n",
    "            K = 1\n",
    "    \n",
    "        elif Re_c < 1*10**5:\n",
    "            K = ((1*10**5)/Re_c)**0.5\n",
    "    \n",
    "        elif Re_c > 5*10**5:\n",
    "            K = (math.log(5*10**5, 10)/math.log(Re_c, 10))**2.58\n",
    "        \n",
    "    else:\n",
    "        Re_r = 100*Chord/e\n",
    "    \n",
    "        if Re_c > Re_r:\n",
    "            K = (math.log(5*10**5, 10)/math.log(Re_r, 10))**2.58\n",
    "    \n",
    "        else:\n",
    "            K = K_Re(Re_c, 0)\n",
    "            \n",
    "    return K"
   ]
  },
  {
   "cell_type": "code",
   "execution_count": 6,
   "id": "7b98d18f-f806-4c74-953d-666dcf7f4079",
   "metadata": {},
   "outputs": [],
   "source": [
    "def Y_p1(Beta2, s_c):\n",
    "    if Beta2 <= 27:\n",
    "        A = 0.025+(27-Beta2)/530\n",
    "    else:\n",
    "        A = 0.025+(27-Beta2)/3085\n",
    "        \n",
    "    B = 0.1583-Beta2/1640\n",
    "    C = 0.08*((Beta2/30)**2-1)\n",
    "\n",
    "    if Beta2 <= 30:\n",
    "        s_c_min = 0.46+Beta2/77\n",
    "        X = (s_c)-(s_c_min)\n",
    "        Y_p = A+B*X**2+C*X**3\n",
    "    else:\n",
    "        s_c_min = 0.614+Beta2/130\n",
    "        X = (s_c)-(s_c_min)\n",
    "        n = 1+Beta2/30  \n",
    "        Y_p = A+B*(abs(X))**(n)\n",
    "        \n",
    "    return Y_p"
   ]
  },
  {
   "cell_type": "code",
   "execution_count": 7,
   "id": "e9a9108e-ffed-459a-b2b2-8261e2134d48",
   "metadata": {},
   "outputs": [],
   "source": [
    "def Y_p2(Beta2, s_c):\n",
    "    A = 0.242-Beta2/151+(Beta2/127)**2\n",
    "\n",
    "    if Beta2 <= 30:\n",
    "        B = 0.3+(30-Beta2)/50\n",
    "    \n",
    "    else:\n",
    "        B = 0.3+(30-Beta2)/275\n",
    "\n",
    "    C = 0.88-Beta2/42.4+(Beta2/72.8)**2\n",
    "    s_c_min = 0.224+1.575*(Beta2/90)-(Beta2/90)**2\n",
    "    X = (s_c)-(s_c_min)\n",
    "    Y_p = A+B*X**2+C*X**3\n",
    "    \n",
    "    return Y_p"
   ]
  },
  {
   "cell_type": "code",
   "execution_count": 8,
   "id": "7e2c7f29-8a03-48db-8437-9c5376192af8",
   "metadata": {},
   "outputs": [],
   "source": [
    "def Y_p(Beta1_prime, Beta1, Beta2, t_max_over_c, O, s, chord, M_w1, M_w2, Re_c, Re_e, s_Rc):\n",
    "    K_mod = 0.67      #modern engines\n",
    "    landa = (90-Beta1_prime)/(90-Beta2)\n",
    "    i = Beta1_prime-Beta1  \n",
    "    s_c = s/chord\n",
    "    i_s = i_sr(Beta2, landa)+di_s(s_c, landa)\n",
    "    \n",
    "    t2_s = 0.02\n",
    "    Beta_g = math.degrees(math.asin(O/s))\n",
    "    dY_TE = ((t2_s)/(math.sin(math.radians(Beta_g))-t2_s))**2\n",
    "    \n",
    "    Y = K_mod*K_inc(i, i_s)*K_M(s_Rc, M_w2)*K_p(M_w1, M_w2)*K_Re(Re_c, Re_e)*\\\n",
    "    ((Y_p1(Beta2, s_c)+landa**2*(Y_p2(Beta2, s_c)-Y_p1(Beta2, s_c)))*(t_max_over_c/0.2)**(landa)-dY_TE)\n",
    "    \n",
    "    dic = {\n",
    "        'K_mod' : K_mod,\n",
    "        'K_inc' : K_inc(i, i_s),\n",
    "        'K_M'   : K_M(s_Rc, M_w2),\n",
    "        'K_p'   : K_p(M_w1, M_w2),\n",
    "        'K_Re'  : K_Re(Re_c, Re_e),\n",
    "        'Y_p1'  : Y_p1(Beta2, s_c),\n",
    "        'Y_p2'  : Y_p2(Beta2, s_c),\n",
    "        'dY_TE' : dY_TE,\n",
    "        'Y_p'   : Y\n",
    "    }\n",
    "    \n",
    "    return dic"
   ]
  },
  {
   "cell_type": "markdown",
   "id": "d2a2d60b-2e57-4aa6-ab51-e3c70b336bd7",
   "metadata": {},
   "source": [
    "## Secondary Loss"
   ]
  },
  {
   "cell_type": "code",
   "execution_count": 9,
   "id": "c20c9a25-fdc9-42cb-9988-9e93bdc26556",
   "metadata": {},
   "outputs": [],
   "source": [
    "def Y_s(K_Re, K_p, bx_h, Beta_1_prime, Beta1, Beta2, s_c, h_c):\n",
    "    K_s = 1-((1-K_p)*(bx_h)**2)/(1+(bx_h)**2)\n",
    "    \n",
    "    if h_c >= 2:\n",
    "        F_AR = 1/h_c\n",
    "    \n",
    "    else:\n",
    "        F_AR = 0.5*((2/h_c)**0.7)\n",
    "        \n",
    "    Beta_m = 90-math.degrees(math.atan((1/math.tan(math.radians(Beta1))-1/math.tan(math.radians(Beta2)))/2))\n",
    "    C_L = 2*(s_c)*math.sin(math.radians(Beta_m))*(1/math.tan(math.radians(Beta1))+1/math.tan(math.radians(Beta2)))\n",
    "    Z = ((C_L/s_c)**2)*((math.sin(math.radians(Beta2)))**2)/((math.sin(math.radians(Beta_m)))**3)\n",
    "    Y_tilda_s = 0.0334*F_AR*Z*math.sin(math.radians(Beta2))/math.sin(math.radians(Beta_1_prime))\n",
    "    \n",
    "    if Y_tilda_s > 0.365:\n",
    "        print('Y_tilda_s is not in the acceptable range: Y_tilda_s <= 0.365 ')\n",
    "        \n",
    "    Y = K_Re*K_s*(((Y_tilda_s**2)/(1+7.5*Y_tilda_s**2))**0.5)\n",
    "    \n",
    "    return Y"
   ]
  },
  {
   "cell_type": "markdown",
   "id": "47e01c83-383b-4752-a5da-61e85dcd641d",
   "metadata": {},
   "source": [
    "## Trailing Edge Loss"
   ]
  },
  {
   "cell_type": "code",
   "execution_count": 10,
   "id": "10374d2a-0990-482a-b4f4-9ce471562e56",
   "metadata": {},
   "outputs": [],
   "source": [
    "def Y_TE(O, s, t2, rho, W2):\n",
    "    Beta_g = math.degrees(math.asin(O/s))\n",
    "    dP0 = 0.5*rho*(W2**2)*((t2)/(s*math.sin(math.radians(Beta_g))-t2))**2\n",
    "    Y = dP0/(0.5*rho*(W2**2))\n",
    "    \n",
    "    return Y"
   ]
  },
  {
   "cell_type": "markdown",
   "id": "9dc21e5b-bb6e-455a-b561-f02fc4e8724f",
   "metadata": {},
   "source": [
    "## Shock Loss"
   ]
  },
  {
   "cell_type": "code",
   "execution_count": 11,
   "id": "740af917-e154-453c-8a7f-7429e3cfb5de",
   "metadata": {},
   "outputs": [],
   "source": [
    "def Y_sh(M_w1, M_w2):\n",
    "    \n",
    "    if M_w1 <= 0.4:\n",
    "        X1 = 0\n",
    "    \n",
    "    else:\n",
    "        X1 = M_w1-0.4\n",
    "        \n",
    "        \n",
    "    \n",
    "    if M_w1 <= M_w2:\n",
    "        X2 = 0\n",
    "    \n",
    "    else:\n",
    "        X2 = M_w1/M_w2-1\n",
    "        \n",
    "    Y_tilda_sh = 0.8*X1**2+X2**2\n",
    "    Y = ((Y_tilda_sh**2)/(1+Y_tilda_sh**2))**0.5\n",
    "    \n",
    "    if Y > 1:\n",
    "        print('Y_sh is not in the acceptable range: Y <= 1')\n",
    "    \n",
    "    return Y"
   ]
  },
  {
   "cell_type": "markdown",
   "id": "a4df6c05-652c-49c7-8549-d8dd66d77904",
   "metadata": {},
   "source": [
    "## Supersonic Expansion Loss"
   ]
  },
  {
   "cell_type": "code",
   "execution_count": 12,
   "id": "c108572c-8ac9-4336-88e8-408e4ac10249",
   "metadata": {},
   "outputs": [],
   "source": [
    "def Y_EX(M_w2):\n",
    "    \n",
    "    if M_w2 > 1:\n",
    "        Y = ((M_w2-1)/(M_w2))**2\n",
    "    \n",
    "    else:\n",
    "        Y = 0\n",
    "        \n",
    "    return Y"
   ]
  },
  {
   "cell_type": "markdown",
   "id": "ba02e8e4-159c-4925-b2e4-1a677d03a54f",
   "metadata": {},
   "source": [
    "## Clearance Loss"
   ]
  },
  {
   "cell_type": "code",
   "execution_count": 13,
   "id": "8c7fe4ee-1f7c-4ed2-a02d-65bc29c89636",
   "metadata": {},
   "outputs": [],
   "source": [
    "def Y_CL(Beta1, Beta2, s_c, h_c, chord, delta):\n",
    "    Beta_m = 90-math.degrees(math.atan((1/math.tan(math.radians(Beta1))-1/math.tan(math.radians(Beta2)))/2))\n",
    "    C_L = 2*(s_c)*math.sin(math.radians(Beta_m))*(1/math.tan(math.radians(Beta1))+1/math.tan(math.radians(Beta2)))\n",
    "    Z = ((C_L/s_c)**2)*((math.sin(math.radians(Beta2)))**2)/((math.sin(math.radians(Beta_m)))**3)\n",
    "    Y = 0.47*Z*(1/h_c)*(delta/chord)**0.78\n",
    "    \n",
    "    return Y"
   ]
  },
  {
   "cell_type": "markdown",
   "id": "74737d2c-f1df-4629-8f4b-ba28eb95c2f8",
   "metadata": {},
   "source": [
    "## Lashing Wire Loss"
   ]
  },
  {
   "cell_type": "code",
   "execution_count": 14,
   "id": "07aa01ef-4ad2-4f81-8101-54dc1ea83e80",
   "metadata": {},
   "outputs": [],
   "source": [
    "def Y_LW(N_LW, D_LW, Cm2, rho2, h, W2, Mu2):\n",
    "    Re = (rho2*Cm2*D_LW)/Mu2\n",
    "    \n",
    "    if Re <= 5*10**5:\n",
    "        C_D = 1\n",
    "    \n",
    "    else:\n",
    "        C_D = 0.35\n",
    "        \n",
    "    Y = (N_LW*C_D*D_LW*(Cm2**2))/(h*W2**2)\n",
    "    \n",
    "    return Y"
   ]
  },
  {
   "cell_type": "markdown",
   "id": "f74025da-df29-4b20-aa98-68a232f8d6db",
   "metadata": {},
   "source": [
    "# Parasistic Losses"
   ]
  },
  {
   "cell_type": "markdown",
   "id": "c334e9cf-2a55-4ca0-be94-dbe10a9b3e49",
   "metadata": {},
   "source": [
    "### Leakage Bypass Loss"
   ]
  },
  {
   "cell_type": "code",
   "execution_count": 15,
   "id": "63ba6d3a-999f-4271-9b3f-48a0f8a29a32",
   "metadata": {},
   "outputs": [],
   "source": [
    "def dh0_leak(N_seal,t_seal, p_seal, r_seal, PR, rho, T, P1, P2, h01, h02, delta_rotor, R, N_BH, D_BH, m_dot, r_seal_is_constant):\n",
    "    C_t = (2.143*(math.log(N_seal)-1.464))/(N_seal-4.322)*((1-PR)**(0.375*PR))\n",
    "    \n",
    "    if N_seal <= 12:\n",
    "        X1 = 15.1-0.05255*(math.e**(0.507*(12-N_seal)))\n",
    "        X2 = 1.058+0.0218*N_seal\n",
    "\n",
    "    else:\n",
    "        X1 = 13.15+0.1625*N_seal\n",
    "        X2 = 1.32\n",
    "        \n",
    "    delta_p = delta_rotor/p_seal\n",
    "    \n",
    "    C_c = 1+X1*(delta_p-X2*math.log(1+delta_p))/(1-X2)\n",
    "    \n",
    "    if delta_p > X2-1:\n",
    "        print('delta_p is not in the acceptable range: delta_p <= X2-1')\n",
    "        \n",
    "    if r_seal_is_constant == 'r_seal is not constant':\n",
    "        C_c = 1\n",
    "    \n",
    "    delta_t = delta_rotor/t_seal\n",
    "    \n",
    "    C_r = 1-1/(3+(54.3/(1+100*delta_t))**3.45)\n",
    "    \n",
    "    m_dot_seal = 2*math.pi*r_seal*delta_rotor*C_t*C_c*C_r*rho*((R*1000*T)**0.5)\n",
    "    \n",
    "    m_dot_BH = 1/8*N_BH*math.pi*(D_BH**2)*((2*(P1-P2)*101325/rho)**0.5)\n",
    "    \n",
    "    dh0 = (m_dot_seal+m_dot_BH)*(h01-h02)/m_dot\n",
    "    \n",
    "    dic = {'m_dot_seal[kg/sec]' : m_dot_seal, 'm_dot_BH[kg/sec]' : m_dot_BH, 'dh0_leak[kj/kg]' : dh0}\n",
    "    \n",
    "    return dic"
   ]
  },
  {
   "cell_type": "markdown",
   "id": "b2d3eb26-6edb-47c0-8203-3bcb3fd04cb2",
   "metadata": {},
   "source": [
    "## Rotor Partial Admission Work"
   ]
  },
  {
   "cell_type": "code",
   "execution_count": 16,
   "id": "a3595d5d-c8af-45d4-a20a-436fddc44eea",
   "metadata": {},
   "outputs": [],
   "source": [
    "def dh0_adm(epsilon, psi, rho2, h, D_m, U_m, b_x, N_active, psi_noz, C2, m_dot):\n",
    "    dh0_w = 0.05*math.pi*rho2*D_m*(U_m**3)*h*(1-epsilon-psi/2)/m_dot/1000\n",
    "    dh0_sec = 0.15*N_active*b_x*U_m*C2*psi_noz/(epsilon*D_m)/1000\n",
    "    dh0 = dh0_w+dh0_sec\n",
    "    \n",
    "    return {'dh0_w[kj/kg]':dh0_w, 'dh0_sec[kj/kg]':dh0_sec, 'dh0[kj/kg]':dh0,}"
   ]
  },
  {
   "cell_type": "markdown",
   "id": "f6ddd519-bb72-4c63-82ed-dba03e224ded",
   "metadata": {},
   "source": [
    "## Rotor Diaphragm-Disk Friction Work"
   ]
  },
  {
   "cell_type": "code",
   "execution_count": 17,
   "id": "3d58d801-d776-4b1b-955d-009e627db2c4",
   "metadata": {},
   "outputs": [],
   "source": [
    "def dh0_DF(rho, r, Delta_r, e, Mu2, omega, m_dot):\n",
    "    Re = (rho*omega*r**2)/Mu2\n",
    "    \n",
    "    C_M1 = 2*math.pi/(Delta_r*Re)\n",
    "    C_M2 = 3.7*(Delta_r**0.1)/(Re**0.5)\n",
    "    C_M3 = 0.08/((Delta_r**(1/6))*(Re**0.25))\n",
    "    C_M4 = 0.102*(Delta_r**0.1)/(Re**0.2)\n",
    "    C_M = max(C_M1, C_M2, C_M3, C_M4)\n",
    "    \n",
    "    A = np.array([C_M1, C_M2, C_M3, C_M4])\n",
    "    \n",
    "    dh01 = C_M*rho*(omega**3)*(r**5)/m_dot\n",
    "    dh02 = 0\n",
    "    \n",
    "    if (e != 0) & (A.argmax() != 0) & (A.argmax() != 1) : # the flow must be turbolent and e != 0\n",
    "        C_Mr = (3.8*math.log(r/e,10)-2.4*(Delta_r**0.25))**(-2)\n",
    "        Re_s = 1100*((e/r)**(-0.4))/(C_M**0.5)\n",
    "        Re_r = 1100*(r/e)-6*10**6\n",
    "        C_M = C_M+(C_Mr-C_M)*(math.log(Re/Re_s,10))/(math.log(Re_r/Re_s,10))\n",
    "        dh02 = (C_M*rho*(omega**3)*(r**5)/m_dot)\n",
    "        \n",
    "    return {'dh01[kj/kg]' : dh01/1000, 'dh02[kj/kg]' : dh02/1000}"
   ]
  },
  {
   "cell_type": "markdown",
   "id": "464c3b29-37ad-40bd-a6c8-f36b142d39c8",
   "metadata": {},
   "source": [
    "## Clearance Gap Windage Loss"
   ]
  },
  {
   "cell_type": "code",
   "execution_count": 18,
   "id": "5a2da612-9c0a-4400-8fbd-2b75e23f2b1b",
   "metadata": {},
   "outputs": [],
   "source": [
    "def dh0_gap(r, rho, Delta, b_x, Delta_m, Mu2, omega, m_dot):\n",
    "    \n",
    "    Re = rho*r*omega*Delta/(2*Mu2)\n",
    "    \n",
    "    if Re <= 2000:\n",
    "        C_f = 16/Re\n",
    "    \n",
    "    else:\n",
    "        C_f = 0.0791/(Re**0.25)\n",
    "    \n",
    "    dh0 = math.pi*rho*C_f*(r**4)*(omega**3)*Delta_m/(4*m_dot)/1000\n",
    "    \n",
    "    return dh0"
   ]
  }
 ],
 "metadata": {
  "kernelspec": {
   "display_name": "Python 3 (ipykernel)",
   "language": "python",
   "name": "python3"
  },
  "language_info": {
   "codemirror_mode": {
    "name": "ipython",
    "version": 3
   },
   "file_extension": ".py",
   "mimetype": "text/x-python",
   "name": "python",
   "nbconvert_exporter": "python",
   "pygments_lexer": "ipython3",
   "version": "3.8.13"
  }
 },
 "nbformat": 4,
 "nbformat_minor": 5
}
