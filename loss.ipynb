{
 "cells": [
  {
   "cell_type": "code",
   "execution_count": 1,
   "id": "844c0b77-d4bf-4d04-967f-430c568f044c",
   "metadata": {},
   "outputs": [],
   "source": [
    "import math\n",
    "import pandas as pd\n",
    "import numpy as np\n",
    "import matplotlib.pyplot as plt\n",
    "from matplotlib import pyplot as plt\n",
    "from ipynb.fs.full.air_thermodynamic_properties import properties\n",
    "from ipynb.fs.full.functions import i_sr, di_s, K_inc, K_M, K_p, K_Re, Y_p1, Y_p2\n",
    "from ipynb.fs.full.functions import Y_p, Y_s, Y_TE, Y_sh, Y_EX, Y_CL, Y_LW\n",
    "from ipynb.fs.full.functions import dh0_leak, dh0_DF, dh0_adm, dh0_gap"
   ]
  },
  {
   "cell_type": "markdown",
   "id": "fb356162-6f71-4df6-abed-674b696fa012",
   "metadata": {},
   "source": [
    "# DATA"
   ]
  },
  {
   "cell_type": "markdown",
   "id": "74391d49-73d8-4c8c-8720-deb131fb437a",
   "metadata": {},
   "source": [
    "## Pressure & Temperature"
   ]
  },
  {
   "cell_type": "code",
   "execution_count": 2,
   "id": "1706ba78-dd5b-4d3d-9245-a2185fa5f02a",
   "metadata": {},
   "outputs": [],
   "source": [
    "T01     = 955                 #k\n",
    "T03     = 810                 #k\n",
    "P01     = 2.12                #bar\n",
    "P03     = 1.01                #bar\n",
    "P01_P03 = P01/P03"
   ]
  },
  {
   "cell_type": "markdown",
   "id": "6bcd5e00-438e-4afc-ae87-69f74356278e",
   "metadata": {},
   "source": [
    "## Reaction"
   ]
  },
  {
   "cell_type": "code",
   "execution_count": 3,
   "id": "ba96c45e-422a-4076-9c3c-2efbbd61da9c",
   "metadata": {},
   "outputs": [],
   "source": [
    "R_h = 0.06          \n",
    "R_m = 0.5           \n",
    "R_t = 0.71          "
   ]
  },
  {
   "cell_type": "markdown",
   "id": "bb1ef413-1111-4b54-af5a-1e10c64b5dad",
   "metadata": {},
   "source": [
    "## Radius"
   ]
  },
  {
   "cell_type": "code",
   "execution_count": 4,
   "id": "066a78cc-88c2-49ea-8948-60cc2b76922a",
   "metadata": {},
   "outputs": [],
   "source": [
    "r_m   = 0.216                 #meter\n",
    "r_h_i = 0.177                 #meter\n",
    "r_h_m = 0.160                 #meter\n",
    "r_h_e = 0.144                 #meter\n",
    "r_t_i = 0.256                 #meter\n",
    "r_t_m = 0.272                 #meter\n",
    "r_t_e = 0.289                 #meter"
   ]
  },
  {
   "cell_type": "markdown",
   "id": "2b1f420a-d6b2-487f-86b5-fef99616e9af",
   "metadata": {},
   "source": [
    "## Height"
   ]
  },
  {
   "cell_type": "code",
   "execution_count": 5,
   "id": "51efe883-0d0b-4a63-88ee-c8a48c876df0",
   "metadata": {},
   "outputs": [],
   "source": [
    "h_b1 = 0.079                 #meter\n",
    "h_b2 = 0.112                 #meter\n",
    "h_b3 = 0.145                 #meter"
   ]
  },
  {
   "cell_type": "markdown",
   "id": "64d5ccf9-6afc-4e83-b845-30e56c5c1c9a",
   "metadata": {},
   "source": [
    "## Omega"
   ]
  },
  {
   "cell_type": "code",
   "execution_count": 6,
   "id": "cda7d3f3-c2b5-4594-9ad0-3ce9516526b0",
   "metadata": {},
   "outputs": [],
   "source": [
    "omega = 1570                  #rad/sec"
   ]
  },
  {
   "cell_type": "markdown",
   "id": "bc2d28d4-9bdc-4f6e-9ffa-0ff0feeabe3f",
   "metadata": {},
   "source": [
    "## Flow Angles"
   ]
  },
  {
   "cell_type": "markdown",
   "id": "5441e204-3da3-49e4-9c17-0e4efb16ffae",
   "metadata": {},
   "source": [
    "Flow angles are provided relative to turbine axis so we're going to have to write them relative to tangential axis:"
   ]
  },
  {
   "cell_type": "markdown",
   "id": "4dd57219-2e68-4dfb-9ffb-84ef595cb25e",
   "metadata": {},
   "source": [
    "### Absolute Angles"
   ]
  },
  {
   "cell_type": "code",
   "execution_count": 7,
   "id": "2ede0178-c710-484d-807f-60bad5b300d5",
   "metadata": {},
   "outputs": [],
   "source": [
    "alpha1_h = 90-18.56           #degree   \n",
    "alpha1_m = 90-15.38           #degree\n",
    "alpha1_t = 90-13.07           #degree\n",
    "alpha2_h = 90-64.09           #degree\n",
    "alpha2_m = 90-56.74           #degree\n",
    "alpha2_t = 90-50.44           #degree\n",
    "alpha3_h = 90-22.44           #degree\n",
    "alpha3_m = 90-15.38           #degree\n",
    "alpha3_t = 90-11.62           #degree"
   ]
  },
  {
   "cell_type": "markdown",
   "id": "700c213e-1c49-4053-a4ec-b673272ce3cc",
   "metadata": {},
   "source": [
    "### Relative Angles"
   ]
  },
  {
   "cell_type": "code",
   "execution_count": 8,
   "id": "4438e57e-ab20-46e0-a7b6-19258f623526",
   "metadata": {},
   "outputs": [],
   "source": [
    "Beta2_h = 90-48.63            #degree        \n",
    "Beta2_m = 90-15.38            #degree\n",
    "Beta2_t = 19.77-90            #degree\n",
    "Beta3_h = 90-51.2             #degree\n",
    "Beta3_m = 90-56.74            #degree\n",
    "Beta3_t = 90-61.91            #degree"
   ]
  },
  {
   "cell_type": "markdown",
   "id": "84506ddb-4666-40f8-aed5-d636fc89b542",
   "metadata": {},
   "source": [
    "## Flow Tangential Velocities"
   ]
  },
  {
   "cell_type": "markdown",
   "id": "c567ab9e-bde3-46b7-a719-56ab4f109488",
   "metadata": {},
   "source": [
    "### Absolute Velocities"
   ]
  },
  {
   "cell_type": "code",
   "execution_count": 9,
   "id": "61a77d10-5cac-4380-a378-7f9afa7eb04e",
   "metadata": {},
   "outputs": [],
   "source": [
    "C_theta1_h = 91.3             #meter/sec \n",
    "C_theta1_m = 74.82            #meter/sec\n",
    "C_theta1_t = 63.14            #meter/sec\n",
    "C_theta2_h = 559.9            #meter/sec\n",
    "C_theta2_m = 414.7            #meter/sec\n",
    "C_theta2_t = 329.3            #meter/sec\n",
    "C_theta3_h = 112.3            #meter/sec\n",
    "C_theta3_m = 74.8             #meter/sec\n",
    "C_theta3_t = 55.9             #meter/sec"
   ]
  },
  {
   "cell_type": "markdown",
   "id": "8f8a9ba9-99f6-4f5a-ae9e-94c9ef911990",
   "metadata": {},
   "source": [
    "### Relative Velocities"
   ]
  },
  {
   "cell_type": "code",
   "execution_count": 10,
   "id": "3d358dc5-91d8-4e75-b913-ecb192c2daf6",
   "metadata": {},
   "outputs": [],
   "source": [
    "W_theta2_h = 308.8            #meter/sec\n",
    "W_theta2_m = 74.82            #meter/sec\n",
    "W_theta2_t = -97.8            #meter/sec\n",
    "W_theta3_h = 338.3            #meter/sec\n",
    "W_theta3_m = 414.7            #meter/sec\n",
    "W_theta3_t = 509.6            #meter/sec"
   ]
  },
  {
   "cell_type": "markdown",
   "id": "874d5252-777d-464a-8fe2-18f052a0fc24",
   "metadata": {},
   "source": [
    "## Stator"
   ]
  },
  {
   "cell_type": "code",
   "execution_count": 11,
   "id": "768f083c-0fa9-4aed-a767-3e18fb9af6fd",
   "metadata": {},
   "outputs": [],
   "source": [
    "s_stator = 0.048              #meter\n",
    "c_stator = 0.064              #meter\n",
    "s_c_stator = 0.74     \n",
    "NOB_stator = 28    \n",
    "alpha1_prime = 90-15.38       #degree \n",
    "alpha2_prime = 90-56.74       #degree\n",
    "stagger_stator = 13.0         #degree  \n",
    "t_max_over_c_stator = 0.15\n",
    "s_Rc_stator = 0.2"
   ]
  },
  {
   "cell_type": "markdown",
   "id": "25043361-c7c2-4da3-82e8-bd78a699e18d",
   "metadata": {},
   "source": [
    "## Rotor"
   ]
  },
  {
   "cell_type": "code",
   "execution_count": 12,
   "id": "75232781-9c68-4094-a816-2f49d14c2e7c",
   "metadata": {},
   "outputs": [],
   "source": [
    "s_rotor = 0.064               #meter  \n",
    "c_rotor = 0.086               #meter   \n",
    "s_c_rotor = 0.74\n",
    "NOB_rotor = 21\n",
    "Beta1_prime  = 90-15.38       #degree      \n",
    "Beta2_prime  = 90-56.74       #degree    \n",
    "stagger_rotor  = 13.0         #degree \n",
    "t_max_over_c_rotor = 0.15\n",
    "s_Rc_rotor = 0.2"
   ]
  },
  {
   "cell_type": "markdown",
   "id": "2f2d9a31-5874-4db2-916a-c7f3319e701b",
   "metadata": {},
   "source": [
    "## Mass Flow & C_m"
   ]
  },
  {
   "cell_type": "code",
   "execution_count": 13,
   "id": "c12b7247-93c7-43e5-989d-66a4c1bcf166",
   "metadata": {},
   "outputs": [],
   "source": [
    "m_dot = 20.36                 #kg/sec\n",
    "C_m = 272                     #meter/sec"
   ]
  },
  {
   "cell_type": "markdown",
   "id": "e6b72f5c-f9c2-4d1c-a60e-4620b595749f",
   "metadata": {},
   "source": [
    "# Thermodynamic Specifications"
   ]
  },
  {
   "cell_type": "markdown",
   "id": "4e4aaaad-f1f0-4f5a-92f7-5d1e72a86050",
   "metadata": {},
   "source": [
    "## Air Specifications"
   ]
  },
  {
   "cell_type": "code",
   "execution_count": 14,
   "id": "13f4d38e-4466-46ab-b808-224cf0684b0c",
   "metadata": {},
   "outputs": [],
   "source": [
    "R_u = 8.314          #kj/kmol-k\n",
    "R = R_u/28.9647      #kj/kg-k\n",
    "P_ref = 1            #bar\n",
    "T_ref = 298.15       #k\n",
    "a = 3.653 \n",
    "b = -1.334*10**(-3)\n",
    "c = 3.291*10**(-6)\n",
    "d = -1.91*10**(-9)\n",
    "e = 0.275*10**(-12)"
   ]
  },
  {
   "cell_type": "markdown",
   "id": "30a07642-205b-4dec-864b-78d213cc0363",
   "metadata": {},
   "source": [
    "## Point 01"
   ]
  },
  {
   "cell_type": "code",
   "execution_count": 15,
   "id": "439b2329-2cff-4437-8640-53d09104e642",
   "metadata": {},
   "outputs": [],
   "source": [
    "point01 = {'P' : P01 , 'T' : T01}         #P in bar and T in k"
   ]
  },
  {
   "cell_type": "code",
   "execution_count": 16,
   "id": "a49cb67c-bf5f-4add-b230-a659873a75e9",
   "metadata": {},
   "outputs": [],
   "source": [
    "Properties01 = properties(point01)"
   ]
  },
  {
   "cell_type": "code",
   "execution_count": 17,
   "id": "6dc27e6f-f450-4c39-93e4-62a7a96723e8",
   "metadata": {},
   "outputs": [
    {
     "data": {
      "text/plain": [
       "{'P[bar]': 2.12,\n",
       " 'T[k]': 955,\n",
       " 'C_p[kj/kg-k]': 1.1325605725778782,\n",
       " 'h[kj/kg]': 999.5485812663288,\n",
       " 's[kj/kg-k]': 6.9015215064805275}"
      ]
     },
     "execution_count": 17,
     "metadata": {},
     "output_type": "execute_result"
    }
   ],
   "source": [
    "Properties01"
   ]
  },
  {
   "cell_type": "markdown",
   "id": "0e81ac66-5f91-44ee-bac5-c60db96e549d",
   "metadata": {},
   "source": [
    "## Point 1"
   ]
  },
  {
   "cell_type": "code",
   "execution_count": 18,
   "id": "e74a59e7-b831-409e-906d-5802243cc89d",
   "metadata": {},
   "outputs": [],
   "source": [
    "C1 = C_theta1_m/math.cos(math.radians(alpha1_m))"
   ]
  },
  {
   "cell_type": "code",
   "execution_count": 19,
   "id": "1a34c8c9-2fe4-4519-94c9-f5964858ced7",
   "metadata": {},
   "outputs": [],
   "source": [
    "s1 = Properties01['s[kj/kg-k]']"
   ]
  },
  {
   "cell_type": "code",
   "execution_count": 20,
   "id": "bed113fa-fa95-4dda-942c-55ab2903d219",
   "metadata": {},
   "outputs": [],
   "source": [
    "h01 = Properties01['h[kj/kg]']\n",
    "h1  = h01-(C1**2)/2/1000"
   ]
  },
  {
   "cell_type": "code",
   "execution_count": 21,
   "id": "1a393f3f-0187-46dc-889f-5329a8cc1ae9",
   "metadata": {},
   "outputs": [],
   "source": [
    "point1 = {'h' : h1 , 's' : s1}"
   ]
  },
  {
   "cell_type": "code",
   "execution_count": 22,
   "id": "1c4ecbd7-7ecb-4e51-9519-114709d6eb31",
   "metadata": {},
   "outputs": [
    {
     "data": {
      "text/plain": [
       "{'h': 959.7567172608573, 's': 6.9015215064805275}"
      ]
     },
     "execution_count": 22,
     "metadata": {},
     "output_type": "execute_result"
    }
   ],
   "source": [
    "point1"
   ]
  },
  {
   "cell_type": "code",
   "execution_count": 23,
   "id": "0bd0e29c-a8c0-425e-b7c7-0eaefeb6e1f6",
   "metadata": {},
   "outputs": [],
   "source": [
    "Properties1 = properties(point1)"
   ]
  },
  {
   "cell_type": "code",
   "execution_count": 24,
   "id": "08fa4a2c-8873-40a9-adb1-8b9d485a18c4",
   "metadata": {},
   "outputs": [
    {
     "data": {
      "text/plain": [
       "{'P[bar]': 1.8285216664703146,\n",
       " 'T[k]': 919.7545909849749,\n",
       " 'C_p[kj/kg-k]': 1.12541055798866,\n",
       " 'h[kj/kg]': 959.7567172608573,\n",
       " 's[kj/kg-k]': 6.9015215064805275}"
      ]
     },
     "execution_count": 24,
     "metadata": {},
     "output_type": "execute_result"
    }
   ],
   "source": [
    "Properties1"
   ]
  },
  {
   "cell_type": "markdown",
   "id": "5ef9db15-fe5e-4b39-ac9b-1d1240bef796",
   "metadata": {},
   "source": [
    "## Point 03"
   ]
  },
  {
   "cell_type": "code",
   "execution_count": 25,
   "id": "97a95331-500e-4397-8c86-2a30b4f447f7",
   "metadata": {},
   "outputs": [],
   "source": [
    "point03 = {'P' : P03 , 'T' : T03}         #P in bar and T in k"
   ]
  },
  {
   "cell_type": "code",
   "execution_count": 26,
   "id": "2db29df3-4157-4f2c-90c4-928669092257",
   "metadata": {},
   "outputs": [],
   "source": [
    "Properties03 = properties(point03)"
   ]
  },
  {
   "cell_type": "code",
   "execution_count": 27,
   "id": "6c070a17-7504-499e-954c-a36ce434908c",
   "metadata": {},
   "outputs": [
    {
     "data": {
      "text/plain": [
       "{'P[bar]': 1.01,\n",
       " 'T[k]': 810,\n",
       " 'C_p[kj/kg-k]': 1.1007979962383003,\n",
       " 'h[kj/kg]': 837.5602307343482,\n",
       " 's[kj/kg-k]': 6.930452306287302}"
      ]
     },
     "execution_count": 27,
     "metadata": {},
     "output_type": "execute_result"
    }
   ],
   "source": [
    "Properties03"
   ]
  },
  {
   "cell_type": "markdown",
   "id": "d210c3c2-261e-40ec-97dc-531e9dfbb5af",
   "metadata": {},
   "source": [
    "But also We can use the relationship between Reactin Factor and delta_h0, so We can act like this:"
   ]
  },
  {
   "cell_type": "code",
   "execution_count": 28,
   "id": "2a57c338-1fec-4bd3-8eed-4e241261ec56",
   "metadata": {},
   "outputs": [],
   "source": [
    "C2 = C_theta2_m/math.cos(math.radians(alpha2_m))"
   ]
  },
  {
   "cell_type": "markdown",
   "id": "fd7f4e9b-4af2-4c21-af38-35c8a4283b41",
   "metadata": {},
   "source": [
    "For Reaction Factor = 0.5, We have:"
   ]
  },
  {
   "cell_type": "code",
   "execution_count": 29,
   "id": "8b55f5de-ed55-4b7b-b1f3-ce67e586fc1b",
   "metadata": {},
   "outputs": [],
   "source": [
    "dh0 = (C2**2-C1**2)/1000"
   ]
  },
  {
   "cell_type": "code",
   "execution_count": 30,
   "id": "039aa744-e296-4cee-b2e9-b67d4a91c79e",
   "metadata": {},
   "outputs": [],
   "source": [
    "h03 = h01-dh0"
   ]
  },
  {
   "cell_type": "code",
   "execution_count": 31,
   "id": "5f410579-979a-4493-87fd-7944b9f2c4a4",
   "metadata": {},
   "outputs": [
    {
     "data": {
      "text/plain": [
       "833.1761705336395"
      ]
     },
     "execution_count": 31,
     "metadata": {},
     "output_type": "execute_result"
    }
   ],
   "source": [
    "h03"
   ]
  },
  {
   "cell_type": "markdown",
   "id": "e0080553-313b-4400-aff9-030b90dd1a37",
   "metadata": {},
   "source": [
    "You can obviously see that both values computed for h03 are really close to each other and this is showing that the model created for real gas has an acceptable performance, but for this point it is really better to use the value resulted from Reaction Factor, so We have:"
   ]
  },
  {
   "cell_type": "code",
   "execution_count": 32,
   "id": "d73894dd-47dd-4abf-97d7-2465a141077a",
   "metadata": {},
   "outputs": [],
   "source": [
    "Properties03['h[kj/kg]'] = h03"
   ]
  },
  {
   "cell_type": "code",
   "execution_count": 33,
   "id": "79f5a51d-0f95-48f4-9bcd-44b114daad6e",
   "metadata": {},
   "outputs": [
    {
     "data": {
      "text/plain": [
       "{'P[bar]': 1.01,\n",
       " 'T[k]': 810,\n",
       " 'C_p[kj/kg-k]': 1.1007979962383003,\n",
       " 'h[kj/kg]': 833.1761705336395,\n",
       " 's[kj/kg-k]': 6.930452306287302}"
      ]
     },
     "execution_count": 33,
     "metadata": {},
     "output_type": "execute_result"
    }
   ],
   "source": [
    "Properties03"
   ]
  },
  {
   "cell_type": "markdown",
   "id": "9a08a295-719a-4b38-8a22-2cf8765d4054",
   "metadata": {},
   "source": [
    "## Point 03_rel"
   ]
  },
  {
   "cell_type": "code",
   "execution_count": 34,
   "id": "3659d5ef-a37f-4c03-ab3a-8ef975300090",
   "metadata": {},
   "outputs": [],
   "source": [
    "W3 = W_theta3_m/math.cos(math.radians(Beta3_m))"
   ]
  },
  {
   "cell_type": "code",
   "execution_count": 35,
   "id": "54018dc4-5907-4f3d-94b0-1d8b293068a6",
   "metadata": {},
   "outputs": [],
   "source": [
    "C3 = C_theta3_m/math.cos(math.radians(alpha3_m))"
   ]
  },
  {
   "cell_type": "code",
   "execution_count": 36,
   "id": "cf39269d-c4c6-432e-bbb4-3a27523adf0e",
   "metadata": {},
   "outputs": [],
   "source": [
    "h03_rel = h03+0.5*(-C3**2+W3**2)/1000"
   ]
  },
  {
   "cell_type": "code",
   "execution_count": 37,
   "id": "99e7fdac-4071-44f8-93ce-d3e05a3060bf",
   "metadata": {},
   "outputs": [
    {
     "data": {
      "text/plain": [
       "916.3836464402993"
      ]
     },
     "execution_count": 37,
     "metadata": {},
     "output_type": "execute_result"
    }
   ],
   "source": [
    "h03_rel"
   ]
  },
  {
   "cell_type": "code",
   "execution_count": 38,
   "id": "54fedaaf-9352-4477-b2c5-86e0e6e494a6",
   "metadata": {},
   "outputs": [],
   "source": [
    "s03_rel = Properties03['s[kj/kg-k]']"
   ]
  },
  {
   "cell_type": "code",
   "execution_count": 39,
   "id": "9a7cde9d-28bc-4927-94f9-89d0316f4692",
   "metadata": {},
   "outputs": [],
   "source": [
    "point03_rel = {'h' : h03_rel, 's' : s03_rel}"
   ]
  },
  {
   "cell_type": "code",
   "execution_count": 40,
   "id": "8f6e1fcb-79da-44f9-8367-2559cf4dd09f",
   "metadata": {},
   "outputs": [
    {
     "data": {
      "text/plain": [
       "{'h': 916.3836464402993, 's': 6.930452306287302}"
      ]
     },
     "execution_count": 40,
     "metadata": {},
     "output_type": "execute_result"
    }
   ],
   "source": [
    "point03_rel"
   ]
  },
  {
   "cell_type": "code",
   "execution_count": 41,
   "id": "c1d947d7-86f9-406e-8674-0f5a913d565b",
   "metadata": {},
   "outputs": [],
   "source": [
    "Properties03_rel = properties(point03_rel)"
   ]
  },
  {
   "cell_type": "code",
   "execution_count": 42,
   "id": "30ee4123-d62e-41b6-81d1-cc73e01dbba6",
   "metadata": {},
   "outputs": [
    {
     "data": {
      "text/plain": [
       "{'P[bar]': 1.397783250463403,\n",
       " 'T[k]': 881.0751252086811,\n",
       " 'C_p[kj/kg-k]': 1.1170879306315786,\n",
       " 'h[kj/kg]': 916.3836464402993,\n",
       " 's[kj/kg-k]': 6.930452306287302}"
      ]
     },
     "execution_count": 42,
     "metadata": {},
     "output_type": "execute_result"
    }
   ],
   "source": [
    "Properties03_rel"
   ]
  },
  {
   "cell_type": "markdown",
   "id": "03f873a6-2bad-4afe-90c5-a3e1dbd4e80a",
   "metadata": {},
   "source": [
    "## Point 3"
   ]
  },
  {
   "cell_type": "code",
   "execution_count": 43,
   "id": "58f69a12-8cde-4c5e-a74f-d597e4a3f920",
   "metadata": {},
   "outputs": [],
   "source": [
    "s3 = Properties03['s[kj/kg-k]']"
   ]
  },
  {
   "cell_type": "code",
   "execution_count": 44,
   "id": "833d1334-3026-4a92-ab44-7c9ca40586d7",
   "metadata": {},
   "outputs": [],
   "source": [
    "h03 = Properties03['h[kj/kg]']\n",
    "h3  = h03-(C3**2)/2/1000"
   ]
  },
  {
   "cell_type": "code",
   "execution_count": 45,
   "id": "33094d4a-343a-4630-b619-fad69b22cae6",
   "metadata": {},
   "outputs": [],
   "source": [
    "point3 = {'h' : h3, 's' : s3}"
   ]
  },
  {
   "cell_type": "code",
   "execution_count": 46,
   "id": "f6029d85-ebbc-4e54-aae1-a974a6fec9ca",
   "metadata": {},
   "outputs": [
    {
     "data": {
      "text/plain": [
       "{'h': 793.4055770684831, 's': 6.930452306287302}"
      ]
     },
     "execution_count": 46,
     "metadata": {},
     "output_type": "execute_result"
    }
   ],
   "source": [
    "point3"
   ]
  },
  {
   "cell_type": "code",
   "execution_count": 47,
   "id": "385415de-b591-4343-9c92-2686c47b5832",
   "metadata": {},
   "outputs": [],
   "source": [
    "Properties3 = properties(point3)"
   ]
  },
  {
   "cell_type": "code",
   "execution_count": 48,
   "id": "1a1abe47-c8fb-48e3-b7ed-0167670d12d8",
   "metadata": {},
   "outputs": [
    {
     "data": {
      "text/plain": [
       "{'P[bar]': 0.8312439131421313,\n",
       " 'T[k]': 769.7145242070117,\n",
       " 'C_p[kj/kg-k]': 1.091181020223647,\n",
       " 'h[kj/kg]': 793.4055770684831,\n",
       " 's[kj/kg-k]': 6.930452306287302}"
      ]
     },
     "execution_count": 48,
     "metadata": {},
     "output_type": "execute_result"
    }
   ],
   "source": [
    "Properties3"
   ]
  },
  {
   "cell_type": "markdown",
   "id": "c9bdc973-791f-428e-8917-b46c2c1e875a",
   "metadata": {},
   "source": [
    "## rho2"
   ]
  },
  {
   "cell_type": "code",
   "execution_count": 49,
   "id": "520f3d1d-5895-4fdb-b11b-b6f63e6e969b",
   "metadata": {},
   "outputs": [],
   "source": [
    "W2 = W_theta2_m/math.cos(math.radians(Beta2_m))\n",
    "Cm2 = W2*math.sin(math.radians(Beta2_m))\n",
    "A2 = math.pi*(r_t_m**2-r_h_m**2)"
   ]
  },
  {
   "cell_type": "code",
   "execution_count": 50,
   "id": "a4c9658f-ebea-4e92-aa60-4e39ccffcee2",
   "metadata": {},
   "outputs": [],
   "source": [
    "rho2 = m_dot/(A2*Cm2)"
   ]
  },
  {
   "cell_type": "code",
   "execution_count": 51,
   "id": "4f6e2fc4-7a07-47f2-83f0-11371cb5c398",
   "metadata": {},
   "outputs": [
    {
     "data": {
      "text/plain": [
       "0.4924387846534955"
      ]
     },
     "execution_count": 51,
     "metadata": {},
     "output_type": "execute_result"
    }
   ],
   "source": [
    "rho2 "
   ]
  },
  {
   "cell_type": "markdown",
   "id": "76c08ee1-5c03-4b17-969c-12c5a6e0e86c",
   "metadata": {},
   "source": [
    "## Point 2_approximate"
   ]
  },
  {
   "cell_type": "markdown",
   "id": "a9978650-16ab-4873-902e-ccb10758c57a",
   "metadata": {},
   "source": [
    "From Reaction Factor We can approximately say:"
   ]
  },
  {
   "cell_type": "code",
   "execution_count": 52,
   "id": "6d8fe207-f907-43d5-b102-69ea8a4bc8e0",
   "metadata": {},
   "outputs": [],
   "source": [
    "P1 = Properties1['P[bar]']"
   ]
  },
  {
   "cell_type": "code",
   "execution_count": 53,
   "id": "0d240021-1cb4-463a-a8fc-701fbad4f45d",
   "metadata": {},
   "outputs": [],
   "source": [
    "P3 = Properties3['P[bar]']"
   ]
  },
  {
   "cell_type": "code",
   "execution_count": 54,
   "id": "20ff5518-3450-47ad-9210-e24bd7612e99",
   "metadata": {},
   "outputs": [],
   "source": [
    "P2_app = P3+0.5*(P1-P3)"
   ]
  },
  {
   "cell_type": "code",
   "execution_count": 55,
   "id": "5ecc0c9a-4fed-4fe0-9365-ddd86e64b54d",
   "metadata": {},
   "outputs": [
    {
     "data": {
      "text/plain": [
       "1.3298827898062229"
      ]
     },
     "execution_count": 55,
     "metadata": {},
     "output_type": "execute_result"
    }
   ],
   "source": [
    "P2_app"
   ]
  },
  {
   "cell_type": "markdown",
   "id": "df4a274b-3693-44ec-a42b-80ba0d13c557",
   "metadata": {},
   "source": [
    "But this pressure is not true and for this pressure we will have s2 < s1 and that is obviously incorrect, so we need to use a correction factor and 0.91 is really acceptable:"
   ]
  },
  {
   "cell_type": "code",
   "execution_count": 56,
   "id": "c78538da-aa51-4cb5-879b-1d1224470a1a",
   "metadata": {},
   "outputs": [],
   "source": [
    "P2_app = ((0.91))*P2_app"
   ]
  },
  {
   "cell_type": "code",
   "execution_count": 57,
   "id": "70cc75a2-eb38-403a-a16e-d035f8e6211a",
   "metadata": {},
   "outputs": [
    {
     "data": {
      "text/plain": [
       "1.2101933387236627"
      ]
     },
     "execution_count": 57,
     "metadata": {},
     "output_type": "execute_result"
    }
   ],
   "source": [
    "P2_app"
   ]
  },
  {
   "cell_type": "code",
   "execution_count": 58,
   "id": "c7ff9359-59bd-4fd4-a7af-0d832b1c9cb9",
   "metadata": {},
   "outputs": [],
   "source": [
    "h02 = h01"
   ]
  },
  {
   "cell_type": "code",
   "execution_count": 59,
   "id": "bce10115-1da9-4cfd-a970-5d172a386c14",
   "metadata": {},
   "outputs": [],
   "source": [
    "h2_app = h02-(0.5*C2**2)/1000"
   ]
  },
  {
   "cell_type": "code",
   "execution_count": 60,
   "id": "61049011-e288-404a-9eeb-e6028a9572f7",
   "metadata": {},
   "outputs": [],
   "source": [
    "point2_app = {'h' : h2_app, 'P' : P2_app}"
   ]
  },
  {
   "cell_type": "code",
   "execution_count": 61,
   "id": "9677f4a4-7754-4227-ab8b-7b2ddedd770e",
   "metadata": {},
   "outputs": [
    {
     "data": {
      "text/plain": [
       "{'h': 876.5705118945125, 'P': 1.2101933387236627}"
      ]
     },
     "execution_count": 61,
     "metadata": {},
     "output_type": "execute_result"
    }
   ],
   "source": [
    "point2_app"
   ]
  },
  {
   "cell_type": "code",
   "execution_count": 62,
   "id": "7c423a01-ca9f-44ff-9be8-36a906d037a0",
   "metadata": {},
   "outputs": [],
   "source": [
    "Properties2_app = properties(point2_app)"
   ]
  },
  {
   "cell_type": "code",
   "execution_count": 63,
   "id": "c6bac571-7e08-4191-848a-78fd9f18d09b",
   "metadata": {},
   "outputs": [
    {
     "data": {
      "text/plain": [
       "{'P[bar]': 1.2101933387236627,\n",
       " 'T[k]': 845.3055091819699,\n",
       " 'C_p[kj/kg-k]': 1.1090252467857047,\n",
       " 'h[kj/kg]': 876.5705118945125,\n",
       " 's[kj/kg-k]': 6.925686459605529}"
      ]
     },
     "execution_count": 63,
     "metadata": {},
     "output_type": "execute_result"
    }
   ],
   "source": [
    "Properties2_app"
   ]
  },
  {
   "cell_type": "markdown",
   "id": "a6777f56-1e86-423a-817d-f96abe389630",
   "metadata": {},
   "source": [
    "## Point 02 & Point 02_rel"
   ]
  },
  {
   "cell_type": "code",
   "execution_count": 64,
   "id": "84e9bdf9-cfe1-4ac4-b205-9e987ec0b88f",
   "metadata": {},
   "outputs": [],
   "source": [
    "h02_rel = h03_rel"
   ]
  },
  {
   "cell_type": "code",
   "execution_count": 65,
   "id": "25c6c073-5e95-4b87-b1fb-eb1b42a39c99",
   "metadata": {},
   "outputs": [
    {
     "data": {
      "text/plain": [
       "(999.5485812663288, 916.3836464402993)"
      ]
     },
     "execution_count": 65,
     "metadata": {},
     "output_type": "execute_result"
    }
   ],
   "source": [
    "h02, h02_rel"
   ]
  },
  {
   "cell_type": "markdown",
   "id": "597e943d-f5d7-42d7-80a6-ddfc2ac82512",
   "metadata": {},
   "source": [
    "From the relationship between static enthalpy and total enthalpies in the above We can check the validation of computations:"
   ]
  },
  {
   "cell_type": "code",
   "execution_count": 66,
   "id": "432e9d3f-c349-4abc-997a-94a5a6bcff7f",
   "metadata": {},
   "outputs": [],
   "source": [
    "W2 = W_theta2_m/math.cos(math.radians(Beta2_m))"
   ]
  },
  {
   "cell_type": "code",
   "execution_count": 67,
   "id": "b8787516-d795-446a-9bd1-bf329c96932e",
   "metadata": {},
   "outputs": [
    {
     "data": {
      "text/plain": [
       "0.021270540315299513"
      ]
     },
     "execution_count": 67,
     "metadata": {},
     "output_type": "execute_result"
    }
   ],
   "source": [
    "abs((h02_rel-(0.5*W2**2)/1000)-(h02-(0.5*C2**2)/1000))"
   ]
  },
  {
   "cell_type": "code",
   "execution_count": 68,
   "id": "5206e89a-7b87-422e-b2a9-5a450196b8c0",
   "metadata": {},
   "outputs": [],
   "source": [
    "s_app = Properties2_app['s[kj/kg-k]']"
   ]
  },
  {
   "cell_type": "code",
   "execution_count": 69,
   "id": "1a82641a-315b-412a-8317-acc4af7d2dac",
   "metadata": {},
   "outputs": [],
   "source": [
    "dic = properties({'h' : h02_rel, 's' : s_app})"
   ]
  },
  {
   "cell_type": "code",
   "execution_count": 70,
   "id": "3a39efe0-26f8-4259-af3f-13f62f0bd321",
   "metadata": {},
   "outputs": [],
   "source": [
    "P02_rel_app, T02_rel_app = dic['P[bar]'], dic['T[k]']"
   ]
  },
  {
   "cell_type": "code",
   "execution_count": 71,
   "id": "fd92b7df-3cb1-441d-87b2-418d821f6fbd",
   "metadata": {},
   "outputs": [
    {
     "data": {
      "text/plain": [
       "(1.4211850525158858, 881.0751252086811)"
      ]
     },
     "execution_count": 71,
     "metadata": {},
     "output_type": "execute_result"
    }
   ],
   "source": [
    "P02_rel_app, T02_rel_app"
   ]
  },
  {
   "cell_type": "code",
   "execution_count": 72,
   "id": "a969cfd6-3f4f-4a24-83c5-fae924a8a204",
   "metadata": {},
   "outputs": [],
   "source": [
    "dic = properties({'h' : h02, 's' : s_app})"
   ]
  },
  {
   "cell_type": "code",
   "execution_count": 73,
   "id": "4e87d2cd-0dfa-4b0c-a13d-abae2d26c965",
   "metadata": {},
   "outputs": [],
   "source": [
    "P02_app, T02_app = dic['P[bar]'], dic['T[k]']"
   ]
  },
  {
   "cell_type": "code",
   "execution_count": 74,
   "id": "4285b5d7-0d14-4e97-abc3-20477ac2e2c8",
   "metadata": {},
   "outputs": [
    {
     "data": {
      "text/plain": [
       "(1.9487894954675762, 954.9949916527546)"
      ]
     },
     "execution_count": 74,
     "metadata": {},
     "output_type": "execute_result"
    }
   ],
   "source": [
    "P02_app, T02_app"
   ]
  },
  {
   "cell_type": "code",
   "execution_count": 75,
   "id": "cfeb8f62-1b54-4a1d-b055-fa6b1cb9866e",
   "metadata": {},
   "outputs": [
    {
     "data": {
      "text/plain": [
       "{'P[bar]': 1.4211850525158858,\n",
       " 'T[k]': 881.0751252086811,\n",
       " 'C_p[kj/kg-k]': 1.1170879306315786,\n",
       " 'h[kj/kg]': 916.3836464402993,\n",
       " 's[kj/kg-k]': 6.925686459605529}"
      ]
     },
     "execution_count": 75,
     "metadata": {},
     "output_type": "execute_result"
    }
   ],
   "source": [
    "properties({'h' : h02_rel, 'P' : P02_rel_app})"
   ]
  },
  {
   "cell_type": "code",
   "execution_count": 76,
   "id": "f894f3af-4847-4863-b1e5-cf047e5ec018",
   "metadata": {},
   "outputs": [
    {
     "data": {
      "text/plain": [
       "{'P[bar]': 1.9487894954675762,\n",
       " 'T[k]': 954.9949916527546,\n",
       " 'C_p[kj/kg-k]': 1.132559589276396,\n",
       " 'h[kj/kg]': 999.5485812663288,\n",
       " 's[kj/kg-k]': 6.925686459605529}"
      ]
     },
     "execution_count": 76,
     "metadata": {},
     "output_type": "execute_result"
    }
   ],
   "source": [
    "properties({'h' : h02, 'P' : P02_app})"
   ]
  },
  {
   "cell_type": "markdown",
   "id": "3a95b801-be8a-4fd0-8bdc-9a706fd254d9",
   "metadata": {},
   "source": [
    "So You are able to see that by the approximation used in the previous section We managed to extraxt thermodynamic specifications at point 02 and point 02_rel, so We can say:"
   ]
  },
  {
   "cell_type": "code",
   "execution_count": 77,
   "id": "c2b41689-77ab-4ce0-91c1-5ef1c91ce5a3",
   "metadata": {},
   "outputs": [],
   "source": [
    "Properties02 = properties({'h' : h02, 'P' : P02_app})"
   ]
  },
  {
   "cell_type": "code",
   "execution_count": 78,
   "id": "69f7d54b-07f5-4178-867d-52ab58bf4ef1",
   "metadata": {},
   "outputs": [
    {
     "data": {
      "text/plain": [
       "{'P[bar]': 1.9487894954675762,\n",
       " 'T[k]': 954.9949916527546,\n",
       " 'C_p[kj/kg-k]': 1.132559589276396,\n",
       " 'h[kj/kg]': 999.5485812663288,\n",
       " 's[kj/kg-k]': 6.925686459605529}"
      ]
     },
     "execution_count": 78,
     "metadata": {},
     "output_type": "execute_result"
    }
   ],
   "source": [
    "Properties02"
   ]
  },
  {
   "cell_type": "code",
   "execution_count": 79,
   "id": "9f7ede8e-8df6-48f5-a97d-1e070dc60fa1",
   "metadata": {},
   "outputs": [],
   "source": [
    "Properties02_rel = properties({'h' : h02_rel, 'P' : P02_rel_app})"
   ]
  },
  {
   "cell_type": "code",
   "execution_count": 80,
   "id": "116ecece-6db6-489b-8725-7c7b2668e501",
   "metadata": {},
   "outputs": [
    {
     "data": {
      "text/plain": [
       "{'P[bar]': 1.4211850525158858,\n",
       " 'T[k]': 881.0751252086811,\n",
       " 'C_p[kj/kg-k]': 1.1170879306315786,\n",
       " 'h[kj/kg]': 916.3836464402993,\n",
       " 's[kj/kg-k]': 6.925686459605529}"
      ]
     },
     "execution_count": 80,
     "metadata": {},
     "output_type": "execute_result"
    }
   ],
   "source": [
    "Properties02_rel"
   ]
  },
  {
   "cell_type": "markdown",
   "id": "352d69ba-946b-443e-983e-5eab84aa19a9",
   "metadata": {},
   "source": [
    "## Point 2"
   ]
  },
  {
   "cell_type": "code",
   "execution_count": 81,
   "id": "741698bd-18e9-48b2-b28a-7e923e678ce7",
   "metadata": {},
   "outputs": [],
   "source": [
    "s2 = Properties02['s[kj/kg-k]']"
   ]
  },
  {
   "cell_type": "code",
   "execution_count": 82,
   "id": "3438deb1-cd1a-481a-90c8-cfc0c18c2bc0",
   "metadata": {},
   "outputs": [],
   "source": [
    "h2 = h02-(C2**2)/2/1000"
   ]
  },
  {
   "cell_type": "code",
   "execution_count": 83,
   "id": "8698e28a-8e15-4ae7-8d27-0df554533ce6",
   "metadata": {},
   "outputs": [],
   "source": [
    "point2 = {'h' : h2, 's' : s2}"
   ]
  },
  {
   "cell_type": "markdown",
   "id": "cf23a4bc-38fc-4c76-bc7a-4dcc7a2440d9",
   "metadata": {},
   "source": [
    "From Reaction Factor We have:"
   ]
  },
  {
   "cell_type": "code",
   "execution_count": 84,
   "id": "b5cc6a80-7ea5-4f37-8340-fb5d5d5e2820",
   "metadata": {},
   "outputs": [],
   "source": [
    "h1 = Properties1['h[kj/kg]']\n",
    "h3 = Properties3['h[kj/kg]']"
   ]
  },
  {
   "cell_type": "code",
   "execution_count": 85,
   "id": "9771b3e1-33a8-4bc1-b617-4bb17aeda6f2",
   "metadata": {},
   "outputs": [
    {
     "data": {
      "text/plain": [
       "0.010635270157763443"
      ]
     },
     "execution_count": 85,
     "metadata": {},
     "output_type": "execute_result"
    }
   ],
   "source": [
    "abs(0.5*(h1-h3)+h3-h2)"
   ]
  },
  {
   "cell_type": "markdown",
   "id": "c0ab9325-1608-4402-bed2-81aeef7b37d2",
   "metadata": {},
   "source": [
    "That shows Computations are valid."
   ]
  },
  {
   "cell_type": "code",
   "execution_count": 86,
   "id": "a78ea67b-15ac-421f-a805-e2c0ee04498f",
   "metadata": {},
   "outputs": [
    {
     "data": {
      "text/plain": [
       "{'h': 876.5705118945125, 's': 6.925686459605529}"
      ]
     },
     "execution_count": 86,
     "metadata": {},
     "output_type": "execute_result"
    }
   ],
   "source": [
    "point2"
   ]
  },
  {
   "cell_type": "code",
   "execution_count": 87,
   "id": "8681fada-b7c8-4c6e-9c28-e3d269194d66",
   "metadata": {},
   "outputs": [],
   "source": [
    "Properties2 = properties(point2)"
   ]
  },
  {
   "cell_type": "code",
   "execution_count": 88,
   "id": "8a56b431-2146-48ad-8bcd-926a9ead6ed7",
   "metadata": {},
   "outputs": [
    {
     "data": {
      "text/plain": [
       "{'P[bar]': 1.2101933387236636,\n",
       " 'T[k]': 845.3055091819699,\n",
       " 'C_p[kj/kg-k]': 1.1090252467857047,\n",
       " 'h[kj/kg]': 876.5705118945125,\n",
       " 's[kj/kg-k]': 6.925686459605529}"
      ]
     },
     "execution_count": 88,
     "metadata": {},
     "output_type": "execute_result"
    }
   ],
   "source": [
    "Properties2"
   ]
  },
  {
   "cell_type": "code",
   "execution_count": 89,
   "id": "5f413744-f8ad-49e1-ac53-d1b1c1c6356d",
   "metadata": {},
   "outputs": [],
   "source": [
    "P2 = Properties2['P[bar]']\n",
    "T2 = Properties2['T[k]']"
   ]
  },
  {
   "cell_type": "code",
   "execution_count": 90,
   "id": "69459b8c-d1f0-4e7c-b40d-472775ecf94e",
   "metadata": {},
   "outputs": [
    {
     "data": {
      "text/plain": [
       "0.5053784110118777"
      ]
     },
     "execution_count": 90,
     "metadata": {},
     "output_type": "execute_result"
    }
   ],
   "source": [
    "P2*101.325/(R*T2)"
   ]
  },
  {
   "cell_type": "code",
   "execution_count": 91,
   "id": "02a5850d-556b-4e85-8a32-ba9fb17b52b0",
   "metadata": {},
   "outputs": [
    {
     "data": {
      "text/plain": [
       "0.01293962635838225"
      ]
     },
     "execution_count": 91,
     "metadata": {},
     "output_type": "execute_result"
    }
   ],
   "source": [
    "abs(rho2-P2*101.325/(R*T2))"
   ]
  },
  {
   "cell_type": "code",
   "execution_count": 92,
   "id": "c8ed3f73-1c74-4157-8ce2-832d2bd15f76",
   "metadata": {},
   "outputs": [
    {
     "data": {
      "text/plain": [
       "0.026276619067458745"
      ]
     },
     "execution_count": 92,
     "metadata": {},
     "output_type": "execute_result"
    }
   ],
   "source": [
    "abs(rho2-P2*101.325/(R*T2))/rho2    #relative error"
   ]
  },
  {
   "cell_type": "markdown",
   "id": "df2c1693-570b-4ee3-8084-89f4d0f89f68",
   "metadata": {},
   "source": [
    "This shows that Our computations are valid."
   ]
  },
  {
   "cell_type": "markdown",
   "id": "46abc2f7-67c5-4eaa-8f7c-a8bbf56aa6e6",
   "metadata": {},
   "source": [
    "## Point 2_is"
   ]
  },
  {
   "cell_type": "code",
   "execution_count": 93,
   "id": "cda163fb-8be6-409b-ad9a-58e53a1779b0",
   "metadata": {},
   "outputs": [],
   "source": [
    "P2_is = Properties2['P[bar]']"
   ]
  },
  {
   "cell_type": "code",
   "execution_count": 94,
   "id": "a72c7da2-eb1f-4564-92b2-6d6977733661",
   "metadata": {},
   "outputs": [],
   "source": [
    "s2_is = Properties01['s[kj/kg-k]']"
   ]
  },
  {
   "cell_type": "code",
   "execution_count": 95,
   "id": "c268d80e-d8fd-4101-8898-1949389547ef",
   "metadata": {},
   "outputs": [],
   "source": [
    "point2_is = {'P' : P2_is, 's' : s2_is}"
   ]
  },
  {
   "cell_type": "code",
   "execution_count": 96,
   "id": "5189fe10-ecbe-464a-8f3f-0de4159ada47",
   "metadata": {},
   "outputs": [
    {
     "data": {
      "text/plain": [
       "{'P': 1.2101933387236636, 's': 6.9015215064805275}"
      ]
     },
     "execution_count": 96,
     "metadata": {},
     "output_type": "execute_result"
    }
   ],
   "source": [
    "point2_is"
   ]
  },
  {
   "cell_type": "code",
   "execution_count": 97,
   "id": "1024b711-17ee-4516-a0a9-44d74dd7a08c",
   "metadata": {},
   "outputs": [],
   "source": [
    "Properties2_is = properties(point2_is)"
   ]
  },
  {
   "cell_type": "code",
   "execution_count": 98,
   "id": "55a21679-963e-4d55-aa6e-cda0a0152ef7",
   "metadata": {},
   "outputs": [
    {
     "data": {
      "text/plain": [
       "{'P[bar]': 1.2101933387236636,\n",
       " 'T[k]': 827.0550918196996,\n",
       " 'C_p[kj/kg-k]': 1.1048009831261285,\n",
       " 'h[kj/kg]': 856.3686469837434,\n",
       " 's[kj/kg-k]': 6.9015215064805275}"
      ]
     },
     "execution_count": 98,
     "metadata": {},
     "output_type": "execute_result"
    }
   ],
   "source": [
    "Properties2_is"
   ]
  },
  {
   "cell_type": "code",
   "execution_count": 99,
   "id": "9cec5c42-44d6-445b-b12c-1cc653db3e5c",
   "metadata": {},
   "outputs": [],
   "source": [
    "h01 = Properties01['h[kj/kg]']\n",
    "h2_is = Properties2_is['h[kj/kg]']"
   ]
  },
  {
   "cell_type": "code",
   "execution_count": 100,
   "id": "4a5c0f85-94a7-4bc8-b26e-757c8593d91e",
   "metadata": {},
   "outputs": [],
   "source": [
    "C2_is = (2*(h01-h2_is)*1000)**0.5"
   ]
  },
  {
   "cell_type": "markdown",
   "id": "53b82577-1cf8-41a4-a95a-fa21ca2c7145",
   "metadata": {},
   "source": [
    "Spouting Velocity is equal to:"
   ]
  },
  {
   "cell_type": "code",
   "execution_count": 101,
   "id": "b5ab05ba-f356-44cb-a19e-6d66a6badff0",
   "metadata": {},
   "outputs": [
    {
     "data": {
      "text/plain": [
       "535.1260305434328"
      ]
     },
     "execution_count": 101,
     "metadata": {},
     "output_type": "execute_result"
    }
   ],
   "source": [
    "C2_is"
   ]
  },
  {
   "cell_type": "markdown",
   "id": "cef117f4-86a0-4e3f-8bee-eec5f08149c7",
   "metadata": {},
   "source": [
    "## Point 3_is"
   ]
  },
  {
   "cell_type": "code",
   "execution_count": 102,
   "id": "29647720-504f-4b88-8afb-68651356c461",
   "metadata": {},
   "outputs": [],
   "source": [
    "P3_is = Properties3['P[bar]']"
   ]
  },
  {
   "cell_type": "code",
   "execution_count": 103,
   "id": "7e1fe0c0-190f-46b5-9f2e-627244992778",
   "metadata": {},
   "outputs": [],
   "source": [
    "s3_is = Properties02['s[kj/kg-k]']"
   ]
  },
  {
   "cell_type": "code",
   "execution_count": 104,
   "id": "6aa01c47-8306-4eb5-ba0c-ab9dc097430f",
   "metadata": {},
   "outputs": [],
   "source": [
    "point3_is = {'P' : P3_is, 's' : s3_is}"
   ]
  },
  {
   "cell_type": "code",
   "execution_count": 105,
   "id": "f2cacda2-be8e-4155-8397-0406b9d67cd0",
   "metadata": {},
   "outputs": [
    {
     "data": {
      "text/plain": [
       "{'P': 0.8312439131421313, 's': 6.925686459605529}"
      ]
     },
     "execution_count": 105,
     "metadata": {},
     "output_type": "execute_result"
    }
   ],
   "source": [
    "point3_is"
   ]
  },
  {
   "cell_type": "code",
   "execution_count": 106,
   "id": "4499656a-2cf4-4727-825e-32accb7fe446",
   "metadata": {},
   "outputs": [],
   "source": [
    "Properties3_is = properties(point3_is)"
   ]
  },
  {
   "cell_type": "code",
   "execution_count": 107,
   "id": "b4c5cd5a-041a-4957-bdf3-3ff39fee7f43",
   "metadata": {},
   "outputs": [
    {
     "data": {
      "text/plain": [
       "{'P[bar]': 0.8312439131421313,\n",
       " 'T[k]': 766.3555926544241,\n",
       " 'C_p[kj/kg-k]': 1.0903715676539332,\n",
       " 'h[kj/kg]': 789.7432864682881,\n",
       " 's[kj/kg-k]': 6.925686459605529}"
      ]
     },
     "execution_count": 107,
     "metadata": {},
     "output_type": "execute_result"
    }
   ],
   "source": [
    "Properties3_is"
   ]
  },
  {
   "cell_type": "markdown",
   "id": "864f07ec-47fd-48b8-873d-4c8fbed238a4",
   "metadata": {},
   "source": [
    "## Table of Specifications"
   ]
  },
  {
   "cell_type": "code",
   "execution_count": 108,
   "id": "6155a243-7b5f-427e-833a-15259bdb0520",
   "metadata": {},
   "outputs": [],
   "source": [
    "Properties = {\n",
    "    'Point 1'             : Properties1,\n",
    "    'Point 01'            : Properties01,\n",
    "    'Point 2'             : Properties2,\n",
    "    'Point 02'            : Properties02,\n",
    "    'Point 02_rel'        : Properties02_rel,\n",
    "    'Point 2_approximate' : Properties2_app,\n",
    "    'Point 2_is'          : Properties2_is,\n",
    "    'Point 3'             : Properties3,\n",
    "    'Point 03'            : Properties03,\n",
    "    'Point 03_rel'        : Properties03_rel,\n",
    "    'Point 3_is'          : Properties3_is,\n",
    "}"
   ]
  },
  {
   "cell_type": "code",
   "execution_count": 109,
   "id": "a443d60a-c60f-4f4c-ba5f-fdcb48e23b31",
   "metadata": {},
   "outputs": [],
   "source": [
    "df = pd.DataFrame(Properties).T"
   ]
  },
  {
   "cell_type": "code",
   "execution_count": 110,
   "id": "209ff012-0698-4d19-9778-fc13ff5b54dc",
   "metadata": {},
   "outputs": [
    {
     "data": {
      "text/html": [
       "<div>\n",
       "<style scoped>\n",
       "    .dataframe tbody tr th:only-of-type {\n",
       "        vertical-align: middle;\n",
       "    }\n",
       "\n",
       "    .dataframe tbody tr th {\n",
       "        vertical-align: top;\n",
       "    }\n",
       "\n",
       "    .dataframe thead th {\n",
       "        text-align: right;\n",
       "    }\n",
       "</style>\n",
       "<table border=\"1\" class=\"dataframe\">\n",
       "  <thead>\n",
       "    <tr style=\"text-align: right;\">\n",
       "      <th></th>\n",
       "      <th>P[bar]</th>\n",
       "      <th>T[k]</th>\n",
       "      <th>C_p[kj/kg-k]</th>\n",
       "      <th>h[kj/kg]</th>\n",
       "      <th>s[kj/kg-k]</th>\n",
       "    </tr>\n",
       "  </thead>\n",
       "  <tbody>\n",
       "    <tr>\n",
       "      <th>Point 1</th>\n",
       "      <td>1.828522</td>\n",
       "      <td>919.754591</td>\n",
       "      <td>1.125411</td>\n",
       "      <td>959.756717</td>\n",
       "      <td>6.901522</td>\n",
       "    </tr>\n",
       "    <tr>\n",
       "      <th>Point 01</th>\n",
       "      <td>2.120000</td>\n",
       "      <td>955.000000</td>\n",
       "      <td>1.132561</td>\n",
       "      <td>999.548581</td>\n",
       "      <td>6.901522</td>\n",
       "    </tr>\n",
       "    <tr>\n",
       "      <th>Point 2</th>\n",
       "      <td>1.210193</td>\n",
       "      <td>845.305509</td>\n",
       "      <td>1.109025</td>\n",
       "      <td>876.570512</td>\n",
       "      <td>6.925686</td>\n",
       "    </tr>\n",
       "    <tr>\n",
       "      <th>Point 02</th>\n",
       "      <td>1.948789</td>\n",
       "      <td>954.994992</td>\n",
       "      <td>1.132560</td>\n",
       "      <td>999.548581</td>\n",
       "      <td>6.925686</td>\n",
       "    </tr>\n",
       "    <tr>\n",
       "      <th>Point 02_rel</th>\n",
       "      <td>1.421185</td>\n",
       "      <td>881.075125</td>\n",
       "      <td>1.117088</td>\n",
       "      <td>916.383646</td>\n",
       "      <td>6.925686</td>\n",
       "    </tr>\n",
       "    <tr>\n",
       "      <th>Point 2_approximate</th>\n",
       "      <td>1.210193</td>\n",
       "      <td>845.305509</td>\n",
       "      <td>1.109025</td>\n",
       "      <td>876.570512</td>\n",
       "      <td>6.925686</td>\n",
       "    </tr>\n",
       "    <tr>\n",
       "      <th>Point 2_is</th>\n",
       "      <td>1.210193</td>\n",
       "      <td>827.055092</td>\n",
       "      <td>1.104801</td>\n",
       "      <td>856.368647</td>\n",
       "      <td>6.901522</td>\n",
       "    </tr>\n",
       "    <tr>\n",
       "      <th>Point 3</th>\n",
       "      <td>0.831244</td>\n",
       "      <td>769.714524</td>\n",
       "      <td>1.091181</td>\n",
       "      <td>793.405577</td>\n",
       "      <td>6.930452</td>\n",
       "    </tr>\n",
       "    <tr>\n",
       "      <th>Point 03</th>\n",
       "      <td>1.010000</td>\n",
       "      <td>810.000000</td>\n",
       "      <td>1.100798</td>\n",
       "      <td>833.176171</td>\n",
       "      <td>6.930452</td>\n",
       "    </tr>\n",
       "    <tr>\n",
       "      <th>Point 03_rel</th>\n",
       "      <td>1.397783</td>\n",
       "      <td>881.075125</td>\n",
       "      <td>1.117088</td>\n",
       "      <td>916.383646</td>\n",
       "      <td>6.930452</td>\n",
       "    </tr>\n",
       "    <tr>\n",
       "      <th>Point 3_is</th>\n",
       "      <td>0.831244</td>\n",
       "      <td>766.355593</td>\n",
       "      <td>1.090372</td>\n",
       "      <td>789.743286</td>\n",
       "      <td>6.925686</td>\n",
       "    </tr>\n",
       "  </tbody>\n",
       "</table>\n",
       "</div>"
      ],
      "text/plain": [
       "                       P[bar]        T[k]  C_p[kj/kg-k]    h[kj/kg]  \\\n",
       "Point 1              1.828522  919.754591      1.125411  959.756717   \n",
       "Point 01             2.120000  955.000000      1.132561  999.548581   \n",
       "Point 2              1.210193  845.305509      1.109025  876.570512   \n",
       "Point 02             1.948789  954.994992      1.132560  999.548581   \n",
       "Point 02_rel         1.421185  881.075125      1.117088  916.383646   \n",
       "Point 2_approximate  1.210193  845.305509      1.109025  876.570512   \n",
       "Point 2_is           1.210193  827.055092      1.104801  856.368647   \n",
       "Point 3              0.831244  769.714524      1.091181  793.405577   \n",
       "Point 03             1.010000  810.000000      1.100798  833.176171   \n",
       "Point 03_rel         1.397783  881.075125      1.117088  916.383646   \n",
       "Point 3_is           0.831244  766.355593      1.090372  789.743286   \n",
       "\n",
       "                     s[kj/kg-k]  \n",
       "Point 1                6.901522  \n",
       "Point 01               6.901522  \n",
       "Point 2                6.925686  \n",
       "Point 02               6.925686  \n",
       "Point 02_rel           6.925686  \n",
       "Point 2_approximate    6.925686  \n",
       "Point 2_is             6.901522  \n",
       "Point 3                6.930452  \n",
       "Point 03               6.930452  \n",
       "Point 03_rel           6.930452  \n",
       "Point 3_is             6.925686  "
      ]
     },
     "execution_count": 110,
     "metadata": {},
     "output_type": "execute_result"
    }
   ],
   "source": [
    "df"
   ]
  },
  {
   "cell_type": "markdown",
   "id": "47240dd0-88d1-44dc-8f88-c7f6e64eae33",
   "metadata": {},
   "source": [
    "# Aerodynamic Losses"
   ]
  },
  {
   "cell_type": "markdown",
   "id": "171b3597-703f-40ea-93c0-b41e53562414",
   "metadata": {},
   "source": [
    "In this section We are going to Calculate Aerodynamic losses. Aerodynamic losses are divided to below parts:"
   ]
  },
  {
   "cell_type": "markdown",
   "id": "924d5d39-c34f-4592-9f00-c780c5e12b87",
   "metadata": {},
   "source": [
    "## Profile Loss"
   ]
  },
  {
   "cell_type": "markdown",
   "id": "8e4d03b3-6a1a-4049-9146-dd6876e03668",
   "metadata": {},
   "source": [
    "### Stator"
   ]
  },
  {
   "cell_type": "code",
   "execution_count": 111,
   "id": "f9082485-c284-4b31-b77d-72cbfdef6004",
   "metadata": {},
   "outputs": [],
   "source": [
    "Beta_1_prime_s = alpha1_prime\n",
    "Beta1_s = alpha1_m\n",
    "Beta2_s = alpha2_m\n",
    "C_p1 = Properties1['C_p[kj/kg-k]']\n",
    "T1 = Properties1['T[k]']\n",
    "gama1 = C_p1/(C_p1-R)\n",
    "M_w1_s = C1/((gama1*R*1000*T1)**0.5)\n",
    "C_p2 = Properties2['C_p[kj/kg-k]']\n",
    "gama2 = C_p2/(C_p2-R)\n",
    "P2 = Properties2['P[bar]']\n",
    "T2 = Properties2['T[k]']\n",
    "M_w2_s = C2/((gama2*R*1000*T2)**0.5)\n",
    "rho2_stator = P2*101.325/(R*T2)                                                         #kg/m^3\n",
    "Mu2 = (571.85-500)/(600-500)*(3.846-3.563)*10**(-5)+3.563*10**(-5)               #kg/m-sec for air at 571.85 centigrade\n",
    "correctinon_fuel = 1.25\n",
    "Mu2 *= correctinon_fuel                                                          #kg/m-sec\n",
    "chord = c_stator\n",
    "Re_c_s = (rho2_stator*C2*chord)/Mu2\n",
    "e = 0\n",
    "Re_e_s = (rho2_stator*C2*e)/Mu2\n",
    "t_max_over_c_s = t_max_over_c_stator\n",
    "O_s = 0.03\n",
    "s_s = s_stator\n",
    "s_Rc_s = s_Rc_stator"
   ]
  },
  {
   "cell_type": "code",
   "execution_count": 112,
   "id": "d43cdb53-c267-4dcf-9675-1273bade1993",
   "metadata": {},
   "outputs": [],
   "source": [
    "Y_profile_stator = Y_p(Beta_1_prime_s, Beta1_s, Beta2_s, t_max_over_c_s, O_s, s_s, chord, M_w1_s, M_w2_s, Re_c_s, Re_e_s, s_Rc_s)"
   ]
  },
  {
   "cell_type": "code",
   "execution_count": 113,
   "id": "f9923e29-b8d8-4de9-93fe-80af48377105",
   "metadata": {},
   "outputs": [
    {
     "data": {
      "text/plain": [
       "{'K_mod': 0.67,\n",
       " 'K_inc': 1.0,\n",
       " 'K_M': 1.5925009578940743,\n",
       " 'K_p': 0.7508799055553661,\n",
       " 'K_Re': 1,\n",
       " 'Y_p1': 0.024545048091145567,\n",
       " 'Y_p2': 0.09234845537154945,\n",
       " 'dY_TE': 0.0010928215285841132,\n",
       " 'Y_p': 0.021005905209344478}"
      ]
     },
     "execution_count": 113,
     "metadata": {},
     "output_type": "execute_result"
    }
   ],
   "source": [
    "Y_profile_stator"
   ]
  },
  {
   "cell_type": "code",
   "execution_count": 114,
   "id": "fd335f7b-6f3f-432c-b8f1-9bc9113e87b1",
   "metadata": {},
   "outputs": [],
   "source": [
    "Y_p_stator = Y_profile_stator['Y_p']"
   ]
  },
  {
   "cell_type": "code",
   "execution_count": 115,
   "id": "6589bdf6-ef70-455c-9789-1e7d0b16be49",
   "metadata": {},
   "outputs": [
    {
     "data": {
      "text/plain": [
       "0.021005905209344478"
      ]
     },
     "execution_count": 115,
     "metadata": {},
     "output_type": "execute_result"
    }
   ],
   "source": [
    "Y_p_stator"
   ]
  },
  {
   "cell_type": "markdown",
   "id": "e130924f-564d-4e77-93fb-9b20200aad64",
   "metadata": {},
   "source": [
    "### Rotor"
   ]
  },
  {
   "cell_type": "code",
   "execution_count": 116,
   "id": "834c19b9-0590-4bc8-9dab-9a6ff6548674",
   "metadata": {},
   "outputs": [],
   "source": [
    "Beta_1_prime_r = Beta1_prime\n",
    "Beta1_r = Beta2_m\n",
    "Beta2_r = Beta3_m\n",
    "C_p1 = Properties2['C_p[kj/kg-k]']\n",
    "T1 = Properties2['T[k]']\n",
    "gama1 = C_p1/(C_p1-R)\n",
    "M_w1_r = W2/((gama1*R*1000*T1)**0.5)\n",
    "C_p2 = Properties3['C_p[kj/kg-k]']\n",
    "gama2 = C_p2/(C_p2-R)\n",
    "P2 = Properties3['P[bar]']\n",
    "T2 = Properties3['T[k]']\n",
    "M_w2_r = W3/((gama2*R*1000*T2)**0.5)\n",
    "rho2_rotor = P2*101.325/(R*T2)                                                         #kg/m^3\n",
    "Mu2 = (571.85-500)/(600-500)*(3.846-3.563)*10**(-5)+3.563*10**(-5)               #kg/m-sec for air at 571.85 centigrade\n",
    "correctinon_fuel = 1.25\n",
    "Mu2 *= correctinon_fuel                                                          #kg/m-sec\n",
    "chord = c_rotor\n",
    "Re_c_r = (rho2_rotor*W3*chord)/Mu2\n",
    "e = 0\n",
    "Re_e_r = (rho2_rotor*W3*e)/Mu2\n",
    "t_max_over_c_r = t_max_over_c_rotor\n",
    "O_r = 0.03\n",
    "s_r = s_rotor\n",
    "s_Rc_r = s_Rc_rotor"
   ]
  },
  {
   "cell_type": "code",
   "execution_count": 117,
   "id": "6f9a35a9-8e03-44eb-9463-8e116cfdc89c",
   "metadata": {},
   "outputs": [],
   "source": [
    "Y_profile_rotor = Y_p(Beta_1_prime_r, Beta1_r, Beta2_r, t_max_over_c_r, O_r, s_r, chord, M_w1_r, M_w2_r, Re_c_r, Re_e_r, s_Rc_r)"
   ]
  },
  {
   "cell_type": "code",
   "execution_count": 118,
   "id": "325725cc-d400-4471-9042-f03a55fcd149",
   "metadata": {},
   "outputs": [
    {
     "data": {
      "text/plain": [
       "{'K_mod': 0.67,\n",
       " 'K_inc': 1.0,\n",
       " 'K_M': 1.6279172827426682,\n",
       " 'K_p': 0.7385824956231877,\n",
       " 'K_Re': 1,\n",
       " 'Y_p1': 0.024710421488420578,\n",
       " 'Y_p2': 0.09205641931398229,\n",
       " 'dY_TE': 0.001986328473553123,\n",
       " 'Y_p': 0.020499790440675212}"
      ]
     },
     "execution_count": 118,
     "metadata": {},
     "output_type": "execute_result"
    }
   ],
   "source": [
    "Y_profile_rotor"
   ]
  },
  {
   "cell_type": "code",
   "execution_count": 119,
   "id": "14fefbb3-a3be-4969-952f-0118a52d3134",
   "metadata": {},
   "outputs": [],
   "source": [
    "Y_p_rotor = Y_profile_rotor['Y_p']"
   ]
  },
  {
   "cell_type": "code",
   "execution_count": 120,
   "id": "eac1975a-706b-4669-8719-f6382ba505f7",
   "metadata": {},
   "outputs": [
    {
     "data": {
      "text/plain": [
       "0.020499790440675212"
      ]
     },
     "execution_count": 120,
     "metadata": {},
     "output_type": "execute_result"
    }
   ],
   "source": [
    "Y_p_rotor"
   ]
  },
  {
   "cell_type": "markdown",
   "id": "8ee06af8-ba8e-440a-8a30-93f753aab5bc",
   "metadata": {},
   "source": [
    "## Secondary Loss"
   ]
  },
  {
   "cell_type": "markdown",
   "id": "ec150329-6189-4551-9b19-230dc49839a5",
   "metadata": {},
   "source": [
    "### Stator"
   ]
  },
  {
   "cell_type": "code",
   "execution_count": 121,
   "id": "4984630f-9180-44a0-897a-ddaa15559591",
   "metadata": {},
   "outputs": [],
   "source": [
    "K_Re_stator, K_p_stator = Y_profile_stator['K_Re'], Y_profile_stator['K_p']\n",
    "chord = c_stator\n",
    "bx_stator = chord*math.cos(math.radians(stagger_stator))\n",
    "h_stator = h_b1\n",
    "bx_h_stator = bx_stator/h_stator\n",
    "h_c_stator = h_stator/chord"
   ]
  },
  {
   "cell_type": "code",
   "execution_count": 122,
   "id": "f74bba46-b3ac-4710-b27c-156f694d8bae",
   "metadata": {},
   "outputs": [],
   "source": [
    "Y_s_stator = Y_s(K_Re_stator, K_p_stator, bx_h_stator, Beta_1_prime_s, Beta1_s, Beta2_s, s_c_stator, h_c_stator)"
   ]
  },
  {
   "cell_type": "code",
   "execution_count": 123,
   "id": "2017c52b-ead7-439b-8028-3e2b09b9a4bb",
   "metadata": {},
   "outputs": [
    {
     "data": {
      "text/plain": [
       "0.05457892055902439"
      ]
     },
     "execution_count": 123,
     "metadata": {},
     "output_type": "execute_result"
    }
   ],
   "source": [
    "Y_s_stator"
   ]
  },
  {
   "cell_type": "markdown",
   "id": "b5ec3ddb-c847-45cd-9368-834305489179",
   "metadata": {},
   "source": [
    "### Rotor"
   ]
  },
  {
   "cell_type": "code",
   "execution_count": 124,
   "id": "822d344c-4b34-4e50-aeac-76d180c39583",
   "metadata": {},
   "outputs": [],
   "source": [
    "K_Re_rotor, K_p_rotor = Y_profile_rotor['K_Re'], Y_profile_rotor['K_p']\n",
    "chord = c_rotor\n",
    "bx_rotor = chord*math.cos(math.radians(stagger_rotor))\n",
    "h_rotor = h_b2\n",
    "bx_h_rotor = bx_rotor/h_rotor\n",
    "h_c_rotor = h_rotor/chord"
   ]
  },
  {
   "cell_type": "code",
   "execution_count": 125,
   "id": "99603947-38a6-444a-8aa4-58a9d67f523c",
   "metadata": {},
   "outputs": [],
   "source": [
    "Y_s_rotor = Y_s(K_Re_rotor, K_p_rotor, bx_h_rotor, Beta_1_prime_r, Beta1_r, Beta2_r, s_c_rotor, h_c_rotor)"
   ]
  },
  {
   "cell_type": "code",
   "execution_count": 126,
   "id": "a0117ed7-fae5-49e8-ae0c-24092ce778a6",
   "metadata": {},
   "outputs": [
    {
     "data": {
      "text/plain": [
       "0.052727303464646685"
      ]
     },
     "execution_count": 126,
     "metadata": {},
     "output_type": "execute_result"
    }
   ],
   "source": [
    "Y_s_rotor"
   ]
  },
  {
   "cell_type": "markdown",
   "id": "60682856-03ae-4509-83e8-f52a37ccde45",
   "metadata": {},
   "source": [
    "## Trailing Edge Loss"
   ]
  },
  {
   "cell_type": "markdown",
   "id": "f01641ca-aad8-4e6a-9189-729a9011c84a",
   "metadata": {},
   "source": [
    "### Stator"
   ]
  },
  {
   "cell_type": "code",
   "execution_count": 127,
   "id": "9380ff9a-83a9-4c45-8d2a-adebb869b328",
   "metadata": {},
   "outputs": [],
   "source": [
    "t2_stator = 0.006    #meter"
   ]
  },
  {
   "cell_type": "code",
   "execution_count": 128,
   "id": "54391aed-6d19-4421-bb11-506d49e1e4aa",
   "metadata": {},
   "outputs": [],
   "source": [
    "Y_TE_stator = Y_TE(O_s, s_s, t2_stator, rho2_stator, C2)"
   ]
  },
  {
   "cell_type": "code",
   "execution_count": 129,
   "id": "8aee8a1b-2db9-4661-a0e8-07f1e53b243b",
   "metadata": {},
   "outputs": [
    {
     "data": {
      "text/plain": [
       "0.0625"
      ]
     },
     "execution_count": 129,
     "metadata": {},
     "output_type": "execute_result"
    }
   ],
   "source": [
    "Y_TE_stator"
   ]
  },
  {
   "cell_type": "markdown",
   "id": "04aa57ca-5691-47c6-bd69-65b8268d69fb",
   "metadata": {},
   "source": [
    "### Rotor"
   ]
  },
  {
   "cell_type": "code",
   "execution_count": 130,
   "id": "f5d044cc-16f6-4375-95f7-d192ddb66480",
   "metadata": {},
   "outputs": [],
   "source": [
    "t2_rotor = 0.006    #meter"
   ]
  },
  {
   "cell_type": "code",
   "execution_count": 131,
   "id": "baab13f1-16b7-414a-9a3e-f88b249d2f0d",
   "metadata": {},
   "outputs": [],
   "source": [
    "Y_TE_rotor = Y_TE(O_r, s_r, t2_rotor, rho2_rotor, W3)"
   ]
  },
  {
   "cell_type": "code",
   "execution_count": 132,
   "id": "3efa789c-938e-4e5d-a6f9-3f5ccc8703b5",
   "metadata": {},
   "outputs": [
    {
     "data": {
      "text/plain": [
       "0.0625"
      ]
     },
     "execution_count": 132,
     "metadata": {},
     "output_type": "execute_result"
    }
   ],
   "source": [
    "Y_TE_rotor"
   ]
  },
  {
   "cell_type": "markdown",
   "id": "5cdb00ee-2d6d-4fcf-9726-61a75fbbe758",
   "metadata": {},
   "source": [
    "## Sock Loss"
   ]
  },
  {
   "cell_type": "markdown",
   "id": "b6e9ca9d-13d4-4b9a-8a7c-ee753d65bedc",
   "metadata": {},
   "source": [
    "### Stator"
   ]
  },
  {
   "cell_type": "code",
   "execution_count": 133,
   "id": "9cf276c7-593f-4201-a11e-4973c0e21333",
   "metadata": {},
   "outputs": [],
   "source": [
    "Y_sh_stator = Y_sh(M_w1_s, M_w2_s)"
   ]
  },
  {
   "cell_type": "code",
   "execution_count": 134,
   "id": "b668e271-57e5-4e59-bb93-35fba2c1b8f4",
   "metadata": {},
   "outputs": [
    {
     "data": {
      "text/plain": [
       "0.004366567999639051"
      ]
     },
     "execution_count": 134,
     "metadata": {},
     "output_type": "execute_result"
    }
   ],
   "source": [
    "Y_sh_stator"
   ]
  },
  {
   "cell_type": "markdown",
   "id": "21765a65-2b9e-4550-b13d-36d945dd2c62",
   "metadata": {},
   "source": [
    "### Rotor"
   ]
  },
  {
   "cell_type": "code",
   "execution_count": 135,
   "id": "ee0ed984-52dd-43ac-ab56-17672fdc6dca",
   "metadata": {},
   "outputs": [],
   "source": [
    "Y_sh_rotor = Y_sh(M_w1_r, M_w2_r)"
   ]
  },
  {
   "cell_type": "code",
   "execution_count": 136,
   "id": "6674d1d4-9ef4-45dc-99e5-9585072cb902",
   "metadata": {},
   "outputs": [
    {
     "data": {
      "text/plain": [
       "0.006927385098119088"
      ]
     },
     "execution_count": 136,
     "metadata": {},
     "output_type": "execute_result"
    }
   ],
   "source": [
    "Y_sh_rotor"
   ]
  },
  {
   "cell_type": "markdown",
   "id": "d1c20170-ca72-49aa-b80f-a5e9f1cdc21c",
   "metadata": {},
   "source": [
    "## Supersonic Expansion Loss"
   ]
  },
  {
   "cell_type": "markdown",
   "id": "54928f52-13d7-4b89-b2fa-02c4a99691b0",
   "metadata": {},
   "source": [
    "## Stator"
   ]
  },
  {
   "cell_type": "code",
   "execution_count": 137,
   "id": "35841e47-0e61-43a7-87a4-a182e6a9f9a5",
   "metadata": {},
   "outputs": [],
   "source": [
    "Y_EX_stator = Y_EX(M_w2_s)"
   ]
  },
  {
   "cell_type": "code",
   "execution_count": 138,
   "id": "92a9adea-483c-4dff-af64-92fa04253383",
   "metadata": {},
   "outputs": [
    {
     "data": {
      "text/plain": [
       "0"
      ]
     },
     "execution_count": 138,
     "metadata": {},
     "output_type": "execute_result"
    }
   ],
   "source": [
    "Y_EX_stator"
   ]
  },
  {
   "cell_type": "markdown",
   "id": "68baa609-58fd-472b-9320-09521119af0d",
   "metadata": {},
   "source": [
    "### Rotor"
   ]
  },
  {
   "cell_type": "code",
   "execution_count": 139,
   "id": "89179e95-f55f-40b1-b61c-73f09e27259e",
   "metadata": {},
   "outputs": [],
   "source": [
    "Y_EX_rotor = Y_EX(M_w2_r)"
   ]
  },
  {
   "cell_type": "code",
   "execution_count": 140,
   "id": "8e0691df-a110-468e-9148-a564394a3be8",
   "metadata": {},
   "outputs": [
    {
     "data": {
      "text/plain": [
       "0"
      ]
     },
     "execution_count": 140,
     "metadata": {},
     "output_type": "execute_result"
    }
   ],
   "source": [
    "Y_EX_rotor"
   ]
  },
  {
   "cell_type": "markdown",
   "id": "a6799b9f-2d14-4259-be89-c22e364552ba",
   "metadata": {},
   "source": [
    "## Blade Clearance Loss"
   ]
  },
  {
   "cell_type": "markdown",
   "id": "22eef4b6-1b99-4a48-9984-2284f90a16c3",
   "metadata": {},
   "source": [
    "### Stator"
   ]
  },
  {
   "cell_type": "code",
   "execution_count": 141,
   "id": "e3e57008-c964-46d1-9ec3-03ff51052fd7",
   "metadata": {},
   "outputs": [],
   "source": [
    "delta_stator = 0.004"
   ]
  },
  {
   "cell_type": "code",
   "execution_count": 142,
   "id": "4c9ec0bf-bffe-4bb8-a919-aea3617ce5b3",
   "metadata": {},
   "outputs": [],
   "source": [
    "Y_CL_stator = Y_CL(Beta1_s, Beta2_s, s_c_stator, h_c_stator, c_stator, delta_stator) "
   ]
  },
  {
   "cell_type": "code",
   "execution_count": 143,
   "id": "d3d72d0e-ed3f-47c0-8bbf-47e6dfd61241",
   "metadata": {},
   "outputs": [
    {
     "data": {
      "text/plain": [
       "0.2012526171929543"
      ]
     },
     "execution_count": 143,
     "metadata": {},
     "output_type": "execute_result"
    }
   ],
   "source": [
    "Y_CL_stator"
   ]
  },
  {
   "cell_type": "markdown",
   "id": "a8d0c8e8-7acb-4854-8502-d3a51f17d505",
   "metadata": {},
   "source": [
    "### Rotor"
   ]
  },
  {
   "cell_type": "code",
   "execution_count": 144,
   "id": "beac9e19-1321-4640-b882-37ff2442cca1",
   "metadata": {},
   "outputs": [],
   "source": [
    "delta_rotor = 0.004"
   ]
  },
  {
   "cell_type": "code",
   "execution_count": 145,
   "id": "7c77255c-9631-4f41-b377-47b36d1c69bf",
   "metadata": {},
   "outputs": [],
   "source": [
    "Y_CL_rotor = Y_CL(Beta1_r, Beta2_r, s_c_rotor, h_c_rotor, c_rotor, delta_rotor) "
   ]
  },
  {
   "cell_type": "code",
   "execution_count": 146,
   "id": "fa4da53e-8204-4a6e-bf24-671f7c1e422b",
   "metadata": {},
   "outputs": [
    {
     "data": {
      "text/plain": [
       "0.15148885061003062"
      ]
     },
     "execution_count": 146,
     "metadata": {},
     "output_type": "execute_result"
    }
   ],
   "source": [
    "Y_CL_rotor"
   ]
  },
  {
   "cell_type": "markdown",
   "id": "c82caf01-6ab7-44cc-8c63-aa45e92244af",
   "metadata": {},
   "source": [
    "## Lashing Wire Loss"
   ]
  },
  {
   "cell_type": "markdown",
   "id": "239a2948-d57f-4da2-a087-218d80fec1eb",
   "metadata": {},
   "source": [
    "### Stator"
   ]
  },
  {
   "cell_type": "code",
   "execution_count": 147,
   "id": "64203f76-58a4-4653-845f-f816b35f42e0",
   "metadata": {},
   "outputs": [],
   "source": [
    "N_LW_stator = 1\n",
    "D_LW_stator = 0.01   #meter\n",
    "W2_stator = C2\n",
    "Cm2_stator = C2*math.sin(math.radians(Beta2_s))"
   ]
  },
  {
   "cell_type": "markdown",
   "id": "09fd416c-bd7c-4d37-b162-c434aff3675c",
   "metadata": {},
   "source": [
    "We can compute Cm2 from C or W, the difference between these mothods show that the data and methods are valid:"
   ]
  },
  {
   "cell_type": "code",
   "execution_count": 148,
   "id": "e5e55fe5-828a-4aa2-8366-23b5769b3aa2",
   "metadata": {},
   "outputs": [
    {
     "data": {
      "text/plain": [
       "0.010380349913532427"
      ]
     },
     "execution_count": 148,
     "metadata": {},
     "output_type": "execute_result"
    }
   ],
   "source": [
    "abs(W2*math.sin(math.radians(Beta2_m))-C2*math.sin(math.radians(Beta2_s)))"
   ]
  },
  {
   "cell_type": "code",
   "execution_count": 149,
   "id": "60e9bdee-39f1-4f0f-8ce4-8611f1481332",
   "metadata": {},
   "outputs": [],
   "source": [
    "Y_LW_stator = Y_LW(N_LW_stator, D_LW_stator, Cm2_stator, rho2_stator, h_stator, W2_stator, Mu2)"
   ]
  },
  {
   "cell_type": "code",
   "execution_count": 150,
   "id": "501dc873-36fd-4e25-8a42-1a4282bab49b",
   "metadata": {},
   "outputs": [
    {
     "data": {
      "text/plain": [
       "0.03807411833646628"
      ]
     },
     "execution_count": 150,
     "metadata": {},
     "output_type": "execute_result"
    }
   ],
   "source": [
    "Y_LW_stator"
   ]
  },
  {
   "cell_type": "markdown",
   "id": "d07e9e6a-89b2-4eca-be36-90faa5d4e057",
   "metadata": {},
   "source": [
    "### Rotor"
   ]
  },
  {
   "cell_type": "code",
   "execution_count": 151,
   "id": "5c9c987a-bf48-4ed1-a3a9-80f4312cd974",
   "metadata": {},
   "outputs": [],
   "source": [
    "N_LW_rotor = 1\n",
    "D_LW_rotor = 0.01   #meter\n",
    "W2_rotor = W3\n",
    "Cm2_rotor = W3*math.sin(math.radians(Beta2_r))"
   ]
  },
  {
   "cell_type": "markdown",
   "id": "1559526a-f8b2-498c-b49e-0143361187e5",
   "metadata": {},
   "source": [
    "We can compute Cm2 from C or W, the difference between these mothods show that the data and methods are valid:"
   ]
  },
  {
   "cell_type": "code",
   "execution_count": 152,
   "id": "3a764ce3-b17c-47d1-87ce-735415b7b9b0",
   "metadata": {},
   "outputs": [
    {
     "data": {
      "text/plain": [
       "0.062328315393585854"
      ]
     },
     "execution_count": 152,
     "metadata": {},
     "output_type": "execute_result"
    }
   ],
   "source": [
    "abs(W3*math.sin(math.radians(Beta2_r))-C3*math.sin(math.radians(alpha3_m)))"
   ]
  },
  {
   "cell_type": "code",
   "execution_count": 153,
   "id": "68778809-cbe5-4be0-9773-94d78c3c8176",
   "metadata": {},
   "outputs": [],
   "source": [
    "Y_LW_rotor = Y_LW(N_LW_rotor, D_LW_rotor, Cm2_rotor, rho2_rotor, h_rotor, W2_rotor, Mu2)"
   ]
  },
  {
   "cell_type": "code",
   "execution_count": 154,
   "id": "5f65f5e6-3b7c-42ef-945b-2e66492794ab",
   "metadata": {},
   "outputs": [
    {
     "data": {
      "text/plain": [
       "0.02685585132661461"
      ]
     },
     "execution_count": 154,
     "metadata": {},
     "output_type": "execute_result"
    }
   ],
   "source": [
    "Y_LW_rotor"
   ]
  },
  {
   "cell_type": "markdown",
   "id": "fc5577b2-4f39-43a5-b97c-7b1c6690c2cd",
   "metadata": {},
   "source": [
    "## Table of Aerodynamic Losses"
   ]
  },
  {
   "cell_type": "code",
   "execution_count": 155,
   "id": "6b45d4bf-f5da-4137-8afd-3ca9ea051e2e",
   "metadata": {},
   "outputs": [],
   "source": [
    "Aerodynamic_Losses_stator = {\n",
    "    'Y_p'  : Y_p_stator,\n",
    "    'Y_s'  : Y_s_stator,\n",
    "    'Y_TE' : Y_TE_stator,\n",
    "    'Y_sh' : Y_sh_stator,\n",
    "    'Y_EX' : Y_EX_stator,\n",
    "    'Y_CL' : Y_CL_stator,\n",
    "    'Y_LW' : Y_LW_stator,\n",
    "}"
   ]
  },
  {
   "cell_type": "code",
   "execution_count": 156,
   "id": "ec1eae9d-7adb-4d10-b51d-554ef31c902c",
   "metadata": {},
   "outputs": [],
   "source": [
    "Aerodynamic_Losses_rotor = {\n",
    "    'Y_p'  : Y_p_rotor,\n",
    "    'Y_s'  : Y_s_rotor,\n",
    "    'Y_TE' : Y_TE_rotor,\n",
    "    'Y_sh' : Y_sh_rotor,\n",
    "    'Y_EX' : Y_EX_rotor,\n",
    "    'Y_CL' : Y_CL_rotor,\n",
    "    'Y_LW' : Y_LW_rotor,\n",
    "}"
   ]
  },
  {
   "cell_type": "code",
   "execution_count": 157,
   "id": "a9a4e2ba-7f0a-44f8-b0fb-6df85b52dd6e",
   "metadata": {},
   "outputs": [],
   "source": [
    "Aerodynamic_Losses = {\n",
    "    'Stator' : Aerodynamic_Losses_stator,\n",
    "    'Rotor'  : Aerodynamic_Losses_rotor,\n",
    "}"
   ]
  },
  {
   "cell_type": "code",
   "execution_count": 158,
   "id": "9dd75d78-fb57-4a1b-9058-a0d4636501ff",
   "metadata": {},
   "outputs": [],
   "source": [
    "df1 = pd.DataFrame(Aerodynamic_Losses).T"
   ]
  },
  {
   "cell_type": "code",
   "execution_count": 159,
   "id": "221619c4-b0ee-48ec-90a0-d51860af3263",
   "metadata": {},
   "outputs": [],
   "source": [
    "df1['Y_total'] = df1['Y_p']+df1['Y_s']+df1['Y_TE']+df1['Y_sh']+df1['Y_EX']+df1['Y_CL']+df1['Y_LW']"
   ]
  },
  {
   "cell_type": "code",
   "execution_count": 160,
   "id": "2eb0100a-21a2-47a9-8e35-26c5598adcd9",
   "metadata": {},
   "outputs": [
    {
     "data": {
      "text/html": [
       "<div>\n",
       "<style scoped>\n",
       "    .dataframe tbody tr th:only-of-type {\n",
       "        vertical-align: middle;\n",
       "    }\n",
       "\n",
       "    .dataframe tbody tr th {\n",
       "        vertical-align: top;\n",
       "    }\n",
       "\n",
       "    .dataframe thead th {\n",
       "        text-align: right;\n",
       "    }\n",
       "</style>\n",
       "<table border=\"1\" class=\"dataframe\">\n",
       "  <thead>\n",
       "    <tr style=\"text-align: right;\">\n",
       "      <th></th>\n",
       "      <th>Y_p</th>\n",
       "      <th>Y_s</th>\n",
       "      <th>Y_TE</th>\n",
       "      <th>Y_sh</th>\n",
       "      <th>Y_EX</th>\n",
       "      <th>Y_CL</th>\n",
       "      <th>Y_LW</th>\n",
       "      <th>Y_total</th>\n",
       "    </tr>\n",
       "  </thead>\n",
       "  <tbody>\n",
       "    <tr>\n",
       "      <th>Stator</th>\n",
       "      <td>0.021006</td>\n",
       "      <td>0.054579</td>\n",
       "      <td>0.0625</td>\n",
       "      <td>0.004367</td>\n",
       "      <td>0.0</td>\n",
       "      <td>0.201253</td>\n",
       "      <td>0.038074</td>\n",
       "      <td>0.381778</td>\n",
       "    </tr>\n",
       "    <tr>\n",
       "      <th>Rotor</th>\n",
       "      <td>0.020500</td>\n",
       "      <td>0.052727</td>\n",
       "      <td>0.0625</td>\n",
       "      <td>0.006927</td>\n",
       "      <td>0.0</td>\n",
       "      <td>0.151489</td>\n",
       "      <td>0.026856</td>\n",
       "      <td>0.320999</td>\n",
       "    </tr>\n",
       "  </tbody>\n",
       "</table>\n",
       "</div>"
      ],
      "text/plain": [
       "             Y_p       Y_s    Y_TE      Y_sh  Y_EX      Y_CL      Y_LW  \\\n",
       "Stator  0.021006  0.054579  0.0625  0.004367   0.0  0.201253  0.038074   \n",
       "Rotor   0.020500  0.052727  0.0625  0.006927   0.0  0.151489  0.026856   \n",
       "\n",
       "         Y_total  \n",
       "Stator  0.381778  \n",
       "Rotor   0.320999  "
      ]
     },
     "execution_count": 160,
     "metadata": {},
     "output_type": "execute_result"
    }
   ],
   "source": [
    "df1"
   ]
  },
  {
   "cell_type": "markdown",
   "id": "f550a436-d02d-4377-8711-8ab3b20d7c73",
   "metadata": {},
   "source": [
    "# Parasitic Losses"
   ]
  },
  {
   "cell_type": "markdown",
   "id": "8b655e80-ba30-44e1-9d3e-de7edc424add",
   "metadata": {},
   "source": [
    "In this section We are going to Calculate Parasitic losses. Parasitic losses are divided to below parts:"
   ]
  },
  {
   "cell_type": "markdown",
   "id": "0be6f021-98c5-42c6-98b2-91ee347f9c1b",
   "metadata": {},
   "source": [
    "## Leakage Bypass Loss"
   ]
  },
  {
   "cell_type": "markdown",
   "id": "4e6c9e4b-53bc-40b5-8f7e-e805bbb11429",
   "metadata": {},
   "source": [
    "### Stator"
   ]
  },
  {
   "cell_type": "code",
   "execution_count": 161,
   "id": "5a75e7d9-8aaf-4eff-942a-381c702537a0",
   "metadata": {},
   "outputs": [],
   "source": [
    "dh0_leak_stator = 0"
   ]
  },
  {
   "cell_type": "markdown",
   "id": "33518199-2fc4-483d-83b9-d37011dab1c0",
   "metadata": {},
   "source": [
    "### Rotor"
   ]
  },
  {
   "cell_type": "markdown",
   "id": "730500af-60a0-4108-b94c-924b8a947f4e",
   "metadata": {},
   "source": [
    "in the below picture You can see the geometrical properties of the Labyrinth on the shroud:"
   ]
  },
  {
   "cell_type": "markdown",
   "id": "292d3380-6886-4660-b872-57244f457671",
   "metadata": {},
   "source": [
    "![labyrinth](labyrinth.png)"
   ]
  },
  {
   "cell_type": "markdown",
   "id": "3e3c4f88-65f0-448c-b2a0-882ca3104bca",
   "metadata": {},
   "source": [
    "But We need to consider this point that labyrinth in this case has been located on the Diaphragm-Disk and We don't have any shroud on the rotor blades. But We can say:"
   ]
  },
  {
   "cell_type": "code",
   "execution_count": 162,
   "id": "2794c118-40db-43da-8051-b8b2147d139f",
   "metadata": {},
   "outputs": [],
   "source": [
    "r_seal_rotor = r_t_m+delta_rotor/2"
   ]
  },
  {
   "cell_type": "markdown",
   "id": "d11597ba-df1f-423c-9408-790dba35e53a",
   "metadata": {},
   "source": [
    "But in this case We have:"
   ]
  },
  {
   "cell_type": "code",
   "execution_count": 163,
   "id": "19e51988-4cc1-46a7-9b96-70f58fd5eeb9",
   "metadata": {},
   "outputs": [],
   "source": [
    "r_seal_is_constant = 'r_seal is not constant'"
   ]
  },
  {
   "cell_type": "markdown",
   "id": "20f83dd1-de2a-4132-9304-39a3b497290c",
   "metadata": {},
   "source": [
    "by paying attention to the previous picture, We can approximately say that:"
   ]
  },
  {
   "cell_type": "code",
   "execution_count": 164,
   "id": "e654ff19-6e1c-42e7-8fb6-57a966a50eaa",
   "metadata": {},
   "outputs": [],
   "source": [
    "Delta_rotor = 6.5*delta_rotor\n",
    "N_seal = 2\n",
    "t_seal = 2*delta_rotor\n",
    "p_seal = 0.04               #meter"
   ]
  },
  {
   "cell_type": "markdown",
   "id": "03cbfc48-d9ee-4b51-b45d-f9363d8df97d",
   "metadata": {},
   "source": [
    "As for Balance Hole We have:"
   ]
  },
  {
   "cell_type": "code",
   "execution_count": 165,
   "id": "43f8f3cd-650b-4c02-8c11-808b6f5d0a80",
   "metadata": {},
   "outputs": [],
   "source": [
    "N_BH =2\n",
    "D_BH = 0.005                #meter"
   ]
  },
  {
   "cell_type": "code",
   "execution_count": 166,
   "id": "1b21ceba-2a19-432d-8fab-78a84e398979",
   "metadata": {},
   "outputs": [],
   "source": [
    "rho = rho2_stator\n",
    "T = Properties2['T[k]']\n",
    "P1 = Properties2['P[bar]']\n",
    "P2 = Properties3['P[bar]']\n",
    "PR = Properties3['P[bar]']/Properties2['P[bar]']\n",
    "h01 = Properties02['h[kj/kg]']\n",
    "h02 = Properties03['h[kj/kg]']"
   ]
  },
  {
   "cell_type": "code",
   "execution_count": 167,
   "id": "4d93b05f-f2d4-42e0-b298-e6fe8adab9c5",
   "metadata": {},
   "outputs": [],
   "source": [
    "dic = dh0_leak(N_seal,t_seal, p_seal, r_seal_rotor, PR, rho, T, P1, P2, h01, h02, delta_rotor, R, N_BH, D_BH, m_dot, r_seal_is_constant)"
   ]
  },
  {
   "cell_type": "code",
   "execution_count": 168,
   "id": "e05f3752-cb79-49f1-84d5-247238d84144",
   "metadata": {},
   "outputs": [
    {
     "data": {
      "text/plain": [
       "{'m_dot_seal[kg/sec]': 0.6911198970178687,\n",
       " 'm_dot_BH[kg/sec]': 0.00765394747964283,\n",
       " 'dh0_leak[kj/kg]': 5.710053490471531}"
      ]
     },
     "execution_count": 168,
     "metadata": {},
     "output_type": "execute_result"
    }
   ],
   "source": [
    "dic"
   ]
  },
  {
   "cell_type": "code",
   "execution_count": 169,
   "id": "37324096-0836-4c4e-b233-845ad44d5a4d",
   "metadata": {},
   "outputs": [],
   "source": [
    "dh0_leak_rotor = dic['dh0_leak[kj/kg]']"
   ]
  },
  {
   "cell_type": "code",
   "execution_count": 170,
   "id": "93742b39-fd77-42a2-8909-2051802cc5e5",
   "metadata": {},
   "outputs": [
    {
     "data": {
      "text/plain": [
       "5.710053490471531"
      ]
     },
     "execution_count": 170,
     "metadata": {},
     "output_type": "execute_result"
    }
   ],
   "source": [
    "dh0_leak_rotor"
   ]
  },
  {
   "cell_type": "markdown",
   "id": "a70f589e-9e97-4d7f-a127-3fccf4197747",
   "metadata": {},
   "source": [
    "### Rotor Partial Admission Work"
   ]
  },
  {
   "cell_type": "markdown",
   "id": "b6085250-e832-4586-98c6-b7f199c0d284",
   "metadata": {},
   "source": [
    "### Stator"
   ]
  },
  {
   "cell_type": "code",
   "execution_count": 171,
   "id": "968bea49-5c9b-4aa3-8f0e-7c40cf61d411",
   "metadata": {},
   "outputs": [],
   "source": [
    "dh0_adm_stator = 0"
   ]
  },
  {
   "cell_type": "markdown",
   "id": "a367278c-01e8-4b36-b1e2-68e67379c6c6",
   "metadata": {},
   "source": [
    "### Rotor"
   ]
  },
  {
   "cell_type": "code",
   "execution_count": 172,
   "id": "d915d0ec-831e-4ca2-8a8d-c84e539061ce",
   "metadata": {},
   "outputs": [],
   "source": [
    "epsilon = 1\n",
    "psi = 0\n",
    "rho2, h = rho2_rotor, h_rotor\n",
    "D_m = 2*r_m\n",
    "U_m = r_m*omega\n",
    "b_x = bx_rotor\n",
    "N_active = 1\n",
    "psi_noz = C2/C2_is"
   ]
  },
  {
   "cell_type": "code",
   "execution_count": 173,
   "id": "3e7a912c-58cb-4e8d-a094-388f4a51aad5",
   "metadata": {},
   "outputs": [],
   "source": [
    "dic = dh0_adm(epsilon, psi, rho2, h, D_m, U_m, b_x, N_active, psi_noz, C2, m_dot)"
   ]
  },
  {
   "cell_type": "code",
   "execution_count": 174,
   "id": "4e25f1da-534d-4ed0-b3da-8199f836bfc3",
   "metadata": {},
   "outputs": [
    {
     "data": {
      "text/plain": [
       "{'dh0_w[kj/kg]': 0.0,\n",
       " 'dh0_sec[kj/kg]': 4.535079337775052,\n",
       " 'dh0[kj/kg]': 4.535079337775052}"
      ]
     },
     "execution_count": 174,
     "metadata": {},
     "output_type": "execute_result"
    }
   ],
   "source": [
    "dic"
   ]
  },
  {
   "cell_type": "code",
   "execution_count": 175,
   "id": "8d4759bd-e2eb-4534-8104-d1de9187279a",
   "metadata": {},
   "outputs": [],
   "source": [
    "dh0_adm_rotor = dic['dh0[kj/kg]']"
   ]
  },
  {
   "cell_type": "code",
   "execution_count": 176,
   "id": "b9330f0e-9798-49b7-af4c-667f29e4a1c9",
   "metadata": {},
   "outputs": [
    {
     "data": {
      "text/plain": [
       "4.535079337775052"
      ]
     },
     "execution_count": 176,
     "metadata": {},
     "output_type": "execute_result"
    }
   ],
   "source": [
    "dh0_adm_rotor"
   ]
  },
  {
   "cell_type": "markdown",
   "id": "6aabf67f-03f9-4b6f-ba1b-e60cdce13176",
   "metadata": {},
   "source": [
    "### Rotor Diaphragm-Disk Friction Work"
   ]
  },
  {
   "cell_type": "markdown",
   "id": "376e8b81-2159-419f-a5e1-565483969134",
   "metadata": {},
   "source": [
    "### Stator"
   ]
  },
  {
   "cell_type": "code",
   "execution_count": 177,
   "id": "ef68f709-32c7-4453-aba3-ed28640cee10",
   "metadata": {},
   "outputs": [],
   "source": [
    "dh0_DF_stator = 0"
   ]
  },
  {
   "cell_type": "markdown",
   "id": "2d866418-c647-4101-bbb9-634f5b821fa1",
   "metadata": {},
   "source": [
    "### Rotor"
   ]
  },
  {
   "cell_type": "code",
   "execution_count": 178,
   "id": "1f70c615-ae2c-40ed-8111-33c3bd106fe9",
   "metadata": {},
   "outputs": [],
   "source": [
    "rho = rho2_rotor\n",
    "r = r_h_m\n",
    "Delta_r = Delta_rotor/r"
   ]
  },
  {
   "cell_type": "code",
   "execution_count": 179,
   "id": "236f3f2b-046d-4e83-976a-eb7f776badb1",
   "metadata": {},
   "outputs": [],
   "source": [
    "dic = dh0_DF(rho, r, Delta_r, e, Mu2, omega, m_dot)"
   ]
  },
  {
   "cell_type": "code",
   "execution_count": 180,
   "id": "1b57240c-b806-4f26-9ca4-46be1f0fc2a6",
   "metadata": {},
   "outputs": [
    {
     "data": {
      "text/plain": [
       "{'dh01[kj/kg]': 0.05103686902569655, 'dh02[kj/kg]': 0.0}"
      ]
     },
     "execution_count": 180,
     "metadata": {},
     "output_type": "execute_result"
    }
   ],
   "source": [
    "dic"
   ]
  },
  {
   "cell_type": "code",
   "execution_count": 181,
   "id": "7b86cd64-0db8-4598-a433-a76657a80804",
   "metadata": {},
   "outputs": [],
   "source": [
    "dh0_DF_rotor = max(list(dic.values()))"
   ]
  },
  {
   "cell_type": "code",
   "execution_count": 182,
   "id": "9f6f76b3-17db-48f4-833e-444958b0464f",
   "metadata": {},
   "outputs": [
    {
     "data": {
      "text/plain": [
       "0.05103686902569655"
      ]
     },
     "execution_count": 182,
     "metadata": {},
     "output_type": "execute_result"
    }
   ],
   "source": [
    "dh0_DF_rotor"
   ]
  },
  {
   "cell_type": "markdown",
   "id": "baaeab86-744d-45ab-8e9b-3633386074e5",
   "metadata": {},
   "source": [
    "### Clearance Gap Windage Loss"
   ]
  },
  {
   "cell_type": "markdown",
   "id": "ebd329a0-8df1-46f3-a9ed-44dd71455fc2",
   "metadata": {},
   "source": [
    "### Stator"
   ]
  },
  {
   "cell_type": "code",
   "execution_count": 183,
   "id": "2caeff87-c039-4420-98f3-2bdfa8d30da8",
   "metadata": {},
   "outputs": [],
   "source": [
    "dh0_gap_stator = 0"
   ]
  },
  {
   "cell_type": "markdown",
   "id": "0b7d7882-497b-4eb5-9b56-edd188c2daf7",
   "metadata": {},
   "source": [
    "### Rotor"
   ]
  },
  {
   "cell_type": "code",
   "execution_count": 184,
   "id": "dd7effd0-edbf-43ec-9706-0d4cf2758097",
   "metadata": {},
   "outputs": [],
   "source": [
    "r_seal_rotor = r_t_m+delta_rotor/2\n",
    "Delta_m = ((r_t_e-r_t_m)**2+(b_x)**2)**0.5\n",
    "r, rho, Delta, b_x = r_seal_rotor, rho2_stator, Delta_rotor, bx_rotor"
   ]
  },
  {
   "cell_type": "code",
   "execution_count": 185,
   "id": "92e7628e-c30f-4f3f-a72d-f4434a30bc04",
   "metadata": {},
   "outputs": [],
   "source": [
    "dh0_gap_rotor = dh0_gap(r, rho, Delta, b_x, Delta_m, Mu2, omega, m_dot)"
   ]
  },
  {
   "cell_type": "code",
   "execution_count": 186,
   "id": "9cf7a1f1-f3b5-48ca-8d41-56253a86d7b1",
   "metadata": {},
   "outputs": [
    {
     "data": {
      "text/plain": [
       "0.1837349844868593"
      ]
     },
     "execution_count": 186,
     "metadata": {},
     "output_type": "execute_result"
    }
   ],
   "source": [
    "dh0_gap_rotor"
   ]
  },
  {
   "cell_type": "markdown",
   "id": "600951bb-23d1-49ac-b8eb-2d99dabacc93",
   "metadata": {},
   "source": [
    "### Moisture or Wet Steam Work Loss"
   ]
  },
  {
   "cell_type": "markdown",
   "id": "d9646a47-f386-46f5-9436-039068de4584",
   "metadata": {},
   "source": [
    "## Stator"
   ]
  },
  {
   "cell_type": "code",
   "execution_count": 187,
   "id": "ba2331f2-5c56-4579-ba49-7993f1e090bf",
   "metadata": {},
   "outputs": [],
   "source": [
    "dh0_ML_stator = 0"
   ]
  },
  {
   "cell_type": "markdown",
   "id": "167e5671-48aa-4d51-b342-0649d9a3293f",
   "metadata": {},
   "source": [
    "### Rotor"
   ]
  },
  {
   "cell_type": "code",
   "execution_count": 188,
   "id": "89624429-9a35-4a22-b8ea-d872e9383816",
   "metadata": {},
   "outputs": [],
   "source": [
    "dh0_ML_rotor = 0"
   ]
  },
  {
   "cell_type": "markdown",
   "id": "ca9bc5b0-3c61-4cc0-8167-949572b39534",
   "metadata": {},
   "source": [
    "## Table of Parasitic Losses"
   ]
  },
  {
   "cell_type": "code",
   "execution_count": 189,
   "id": "58b754a7-ec01-46bd-95c6-a1ff29b3aed6",
   "metadata": {},
   "outputs": [],
   "source": [
    "Parasitic_Losses_stator = {\n",
    "    'dh0_leak[kj/kg]' : dh0_leak_stator,\n",
    "    'dh0_adm[kj/kg]'  : dh0_adm_stator,\n",
    "    'dh0_DF[kj/kg]'   : dh0_DF_stator,\n",
    "    'dh0_gap[kj/kg]'  : dh0_gap_stator ,\n",
    "    'dh0_ML[kj/kg]'   : dh0_ML_stator,\n",
    "}"
   ]
  },
  {
   "cell_type": "code",
   "execution_count": 190,
   "id": "d9702ce7-bcbd-48a5-a0dc-1c259e04761e",
   "metadata": {},
   "outputs": [],
   "source": [
    "Parasitic_Losses_rotor = {\n",
    "    'dh0_leak[kj/kg]' : dh0_leak_rotor,\n",
    "    'dh0_adm[kj/kg]'  : dh0_adm_rotor,\n",
    "    'dh0_DF[kj/kg]'   : dh0_DF_rotor,\n",
    "    'dh0_gap[kj/kg]'  : dh0_gap_rotor,\n",
    "    'dh0_ML[kj/kg]'   : dh0_ML_rotor,\n",
    "}"
   ]
  },
  {
   "cell_type": "code",
   "execution_count": 191,
   "id": "8d404fcf-41e8-426f-b2bc-571de75d41fd",
   "metadata": {},
   "outputs": [],
   "source": [
    "Parasitic_Losses = {\n",
    "    'Stator' : Parasitic_Losses_stator,\n",
    "    'Rotor'  : Parasitic_Losses_rotor,\n",
    "}"
   ]
  },
  {
   "cell_type": "code",
   "execution_count": 192,
   "id": "e72d2d5b-7530-40d0-a076-a557d4651bb4",
   "metadata": {},
   "outputs": [],
   "source": [
    "df2 = pd.DataFrame(Parasitic_Losses).T"
   ]
  },
  {
   "cell_type": "code",
   "execution_count": 193,
   "id": "9fcc5517-e0d7-4147-8e49-16ea9e46d7b0",
   "metadata": {},
   "outputs": [],
   "source": [
    "df2['dh0_total[kj/kg]'] = df2['dh0_leak[kj/kg]']+df2['dh0_adm[kj/kg]']+df2['dh0_DF[kj/kg]']+df2['dh0_gap[kj/kg]']+df2['dh0_ML[kj/kg]']"
   ]
  },
  {
   "cell_type": "code",
   "execution_count": 194,
   "id": "cc82b878-f507-4d54-b190-f628965194c6",
   "metadata": {},
   "outputs": [
    {
     "data": {
      "text/html": [
       "<div>\n",
       "<style scoped>\n",
       "    .dataframe tbody tr th:only-of-type {\n",
       "        vertical-align: middle;\n",
       "    }\n",
       "\n",
       "    .dataframe tbody tr th {\n",
       "        vertical-align: top;\n",
       "    }\n",
       "\n",
       "    .dataframe thead th {\n",
       "        text-align: right;\n",
       "    }\n",
       "</style>\n",
       "<table border=\"1\" class=\"dataframe\">\n",
       "  <thead>\n",
       "    <tr style=\"text-align: right;\">\n",
       "      <th></th>\n",
       "      <th>dh0_leak[kj/kg]</th>\n",
       "      <th>dh0_adm[kj/kg]</th>\n",
       "      <th>dh0_DF[kj/kg]</th>\n",
       "      <th>dh0_gap[kj/kg]</th>\n",
       "      <th>dh0_ML[kj/kg]</th>\n",
       "      <th>dh0_total[kj/kg]</th>\n",
       "    </tr>\n",
       "  </thead>\n",
       "  <tbody>\n",
       "    <tr>\n",
       "      <th>Stator</th>\n",
       "      <td>0.000000</td>\n",
       "      <td>0.000000</td>\n",
       "      <td>0.000000</td>\n",
       "      <td>0.000000</td>\n",
       "      <td>0.0</td>\n",
       "      <td>0.000000</td>\n",
       "    </tr>\n",
       "    <tr>\n",
       "      <th>Rotor</th>\n",
       "      <td>5.710053</td>\n",
       "      <td>4.535079</td>\n",
       "      <td>0.051037</td>\n",
       "      <td>0.183735</td>\n",
       "      <td>0.0</td>\n",
       "      <td>10.479905</td>\n",
       "    </tr>\n",
       "  </tbody>\n",
       "</table>\n",
       "</div>"
      ],
      "text/plain": [
       "        dh0_leak[kj/kg]  dh0_adm[kj/kg]  dh0_DF[kj/kg]  dh0_gap[kj/kg]  \\\n",
       "Stator         0.000000        0.000000       0.000000        0.000000   \n",
       "Rotor          5.710053        4.535079       0.051037        0.183735   \n",
       "\n",
       "        dh0_ML[kj/kg]  dh0_total[kj/kg]  \n",
       "Stator            0.0          0.000000  \n",
       "Rotor             0.0         10.479905  "
      ]
     },
     "execution_count": 194,
     "metadata": {},
     "output_type": "execute_result"
    }
   ],
   "source": [
    "df2"
   ]
  },
  {
   "cell_type": "markdown",
   "id": "1b8fdfea-c0b3-4a40-827b-69841f3f0a2d",
   "metadata": {},
   "source": [
    "# Turbine Efficiency"
   ]
  },
  {
   "cell_type": "markdown",
   "id": "ccb154a6-7ba4-4f2c-a6a2-7d23ef96a42e",
   "metadata": {},
   "source": [
    "### Stage"
   ]
  },
  {
   "cell_type": "code",
   "execution_count": 206,
   "id": "bf6aecc1-bbe6-4d86-aeda-f350e60660d5",
   "metadata": {},
   "outputs": [],
   "source": [
    "h1 = Properties1['h[kj/kg]']\n",
    "h2 = Properties2['h[kj/kg]']\n",
    "h2_is = Properties2_is['h[kj/kg]']"
   ]
  },
  {
   "cell_type": "code",
   "execution_count": 207,
   "id": "e4a03bee-4f5d-433b-8353-d899dff09939",
   "metadata": {},
   "outputs": [],
   "source": [
    "psi_nozzle = (h2-h2_is)*1000/(0.5*C2**2)"
   ]
  },
  {
   "cell_type": "code",
   "execution_count": 208,
   "id": "e831f77e-18a3-48a2-b832-f017c0c1b639",
   "metadata": {},
   "outputs": [],
   "source": [
    "h3 = Properties3['h[kj/kg]']\n",
    "h3_is = Properties3_is['h[kj/kg]']"
   ]
  },
  {
   "cell_type": "code",
   "execution_count": 209,
   "id": "9c5136db-76f8-4d94-b016-07c6305cf64a",
   "metadata": {},
   "outputs": [],
   "source": [
    "psi_rotor = (h3-h3_is)*1000/(0.5*W3**2)"
   ]
  },
  {
   "cell_type": "code",
   "execution_count": 210,
   "id": "bc67ee48-4b7b-4155-ba4c-29f8eee974aa",
   "metadata": {},
   "outputs": [],
   "source": [
    "T03 = Properties03['T[k]']\n",
    "T3 = Properties3['T[k]']\n",
    "T2 = Properties2['T[k]']\n",
    "h01 = Properties01['h[kj/kg]']\n",
    "h03 = Properties03['h[kj/kg]']"
   ]
  },
  {
   "cell_type": "code",
   "execution_count": 211,
   "id": "c60028f6-43e2-4127-a1c5-4ce80ef2cfdd",
   "metadata": {},
   "outputs": [],
   "source": [
    "etta_tt = (1+(T03/T3)*(psi_nozzle*(C2**2)*(T3/T2)+(W3**2)*psi_rotor)/(2000*(h01-h03)))**(-1)"
   ]
  },
  {
   "cell_type": "code",
   "execution_count": 212,
   "id": "78a599b1-2790-4630-ba0c-f726293d4f84",
   "metadata": {},
   "outputs": [
    {
     "data": {
      "text/plain": [
       "0.8775634455605741"
      ]
     },
     "execution_count": 212,
     "metadata": {},
     "output_type": "execute_result"
    }
   ],
   "source": [
    "etta_tt"
   ]
  },
  {
   "cell_type": "markdown",
   "id": "6b99e8b1-f7aa-4845-b7fd-038b5499dd8d",
   "metadata": {},
   "source": [
    "## Stator"
   ]
  },
  {
   "cell_type": "code",
   "execution_count": 213,
   "id": "818d1b3f-6437-4b99-8262-e203a2a68473",
   "metadata": {},
   "outputs": [],
   "source": [
    "etta_stator = (h1-h2)/(h1-h2_is)"
   ]
  },
  {
   "cell_type": "code",
   "execution_count": 214,
   "id": "35a06f03-d715-4271-bf0d-fd6a3e127334",
   "metadata": {},
   "outputs": [
    {
     "data": {
      "text/plain": [
       "0.8046015864632978"
      ]
     },
     "execution_count": 214,
     "metadata": {},
     "output_type": "execute_result"
    }
   ],
   "source": [
    "etta_stator"
   ]
  },
  {
   "cell_type": "markdown",
   "id": "08368f43-8467-4104-a1ea-abe9c712cae1",
   "metadata": {},
   "source": [
    "## Rotor"
   ]
  },
  {
   "cell_type": "code",
   "execution_count": 215,
   "id": "05f3fe41-6a86-4353-8cc6-49edc6cb1220",
   "metadata": {},
   "outputs": [],
   "source": [
    "etta_rotor = (h2-h3)/(h2-h3_is)"
   ]
  },
  {
   "cell_type": "code",
   "execution_count": 218,
   "id": "ebd849ce-1ffd-4586-9712-713e6769837b",
   "metadata": {},
   "outputs": [
    {
     "data": {
      "text/plain": [
       "0.9578209417355301"
      ]
     },
     "execution_count": 218,
     "metadata": {},
     "output_type": "execute_result"
    }
   ],
   "source": [
    "etta_rotor"
   ]
  },
  {
   "cell_type": "markdown",
   "id": "d0cd0020-2c1f-4dd6-9c02-9fb0fa789578",
   "metadata": {},
   "source": [
    "From Reaction Factor We have:"
   ]
  },
  {
   "cell_type": "code",
   "execution_count": 219,
   "id": "01681503-524b-4ef4-80bb-091e4d53a8de",
   "metadata": {},
   "outputs": [
    {
     "data": {
      "text/plain": [
       "0.881211264099414"
      ]
     },
     "execution_count": 219,
     "metadata": {},
     "output_type": "execute_result"
    }
   ],
   "source": [
    "0.5*(etta_stator+etta_rotor)"
   ]
  },
  {
   "cell_type": "markdown",
   "id": "2a261a88-faee-4866-9bd2-e0292a37ddbc",
   "metadata": {},
   "source": [
    "this is showing that Our Computations are valid"
   ]
  }
 ],
 "metadata": {
  "kernelspec": {
   "display_name": "Python 3 (ipykernel)",
   "language": "python",
   "name": "python3"
  },
  "language_info": {
   "codemirror_mode": {
    "name": "ipython",
    "version": 3
   },
   "file_extension": ".py",
   "mimetype": "text/x-python",
   "name": "python",
   "nbconvert_exporter": "python",
   "pygments_lexer": "ipython3",
   "version": "3.8.13"
  }
 },
 "nbformat": 4,
 "nbformat_minor": 5
}
