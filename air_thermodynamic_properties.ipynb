{
 "cells": [
  {
   "cell_type": "code",
   "execution_count": 1,
   "id": "0a0fc26a-1824-445d-9d88-2763f61e9b96",
   "metadata": {},
   "outputs": [],
   "source": [
    "import math\n",
    "import pandas as pd\n",
    "import numpy as np\n",
    "import matplotlib.pyplot as plt \n",
    "from matplotlib import pyplot as plt"
   ]
  },
  {
   "cell_type": "markdown",
   "id": "d4f2da79-1a4d-4138-9a17-46d45f39f0b0",
   "metadata": {},
   "source": [
    "# DATA"
   ]
  },
  {
   "cell_type": "markdown",
   "id": "0ea4a6b5-3cf5-4c58-b0be-46c0832a9a3d",
   "metadata": {},
   "source": [
    "as you know we have below equations:\n",
    "$\\newline$$\\frac{\\overline{C_p}}{R_{u}}$ = $𝑎 + b{𝑇} + c{𝑇}^{2} + 𝑑{𝑇}^3 + 𝑒{𝑇}^{4}$ $\\newline$\n",
    "$\\frac{\\overline{h}}{R_{u}T}$ = $𝑎 + \\frac{b}{2}{𝑇} + \\frac{c}{3}{𝑇}^{2} + \\frac{d}{4}{𝑇}^3 + \\frac{e}{5}{𝑇}^{4}$ $\\newline$\n",
    "$\\frac{\\overline{S}^{0}}{R_{u}}$ = $a\\ln{T} + {b}{𝑇} + \\frac{c}{2}{𝑇}^{2} + \\frac{d}{3}{𝑇}^3 + \\frac{e}{4}{𝑇}^{4}$"
   ]
  },
  {
   "cell_type": "markdown",
   "id": "d3a5ed82-60b2-4f98-9744-1a44162aed0c",
   "metadata": {},
   "source": [
    "## Air (dry)"
   ]
  },
  {
   "cell_type": "markdown",
   "id": "1e3852da-3cfd-4deb-ba92-406de1bce2f8",
   "metadata": {},
   "source": [
    "For Air We have:"
   ]
  },
  {
   "cell_type": "code",
   "execution_count": 2,
   "id": "0c77d9a4-1fbf-48fc-9eb4-0997d43e739a",
   "metadata": {},
   "outputs": [],
   "source": [
    "a = 3.653 \n",
    "b = -1.334*10**(-3)\n",
    "c = 3.291*10**(-6)\n",
    "d = -1.91*10**(-9)\n",
    "e = 0.275*10**(-12)"
   ]
  },
  {
   "cell_type": "code",
   "execution_count": 3,
   "id": "265910b8-5409-41fa-8a14-f9696ef962d3",
   "metadata": {},
   "outputs": [],
   "source": [
    "R_u = 8.314          #kj/kmol-k\n",
    "R = R_u/28.9647      #kj/kg-k\n",
    "P_ref = 1            #bar\n",
    "T_ref = 298.15       #k"
   ]
  },
  {
   "cell_type": "code",
   "execution_count": 4,
   "id": "fa25d9c0-bac9-4e6b-921d-5f3ac3beff54",
   "metadata": {},
   "outputs": [],
   "source": [
    "TIT = 1000           #k\n",
    "etta_is_c = 0.84\n",
    "etta_is_t = 0.86"
   ]
  },
  {
   "cell_type": "markdown",
   "id": "b12e0a62-2cbf-486a-b960-9e2de7e5b691",
   "metadata": {},
   "source": [
    "# Part 1"
   ]
  },
  {
   "cell_type": "code",
   "execution_count": 5,
   "id": "ed7d92e7-4a41-4031-9fe2-8afcfefe6496",
   "metadata": {},
   "outputs": [],
   "source": [
    "def properties(data):\n",
    "    \n",
    "    #Scenario1: when P and T are given:\n",
    "    \n",
    "    if ('T' in data) & ('P' in data):\n",
    "        T = data['T']\n",
    "        P = data['P']\n",
    "        C_p_bar = R_u*(a + b*T + c*T**2 + d*T**3 + e*T**4) \n",
    "        h_bar = R_u*T*(a + b/2*T + c/3*T**2 + d/4*T**3 + e/5*T**4)\n",
    "        s_bar_above0 = R_u*(a*math.log(T) + b*T + c/2*T**2 + d/3*T**3 + e/4*T**4) \n",
    "        C_p = R/R_u*C_p_bar\n",
    "        h = R/R_u*h_bar\n",
    "        s_above0 = R/R_u*s_bar_above0 \n",
    "        s = -R*math.log(P/P_ref)+s_above0\n",
    "        return {'P[bar]':P, 'T[k]':T, 'C_p[kj/kg-k]':C_p, 'h[kj/kg]':h, 's[kj/kg-k]':s}\n",
    "        \n",
    "    #Scenario2: when P and s are given:\n",
    "        \n",
    "    if ('P' in data) & ('s' in data):\n",
    "        P = data['P']\n",
    "        T = np.array(range(300, 2000))\n",
    "        s_bar_above0 = R_u*(a*np.log(T) + b*T + c/2*T**2 + d/3*T**3 + e/4*T**4) \n",
    "        s_above0 = R/R_u*s_bar_above0 \n",
    "        difference_of_s = np.abs(s_above0-R*math.log(P/P_ref)-data['s'])\n",
    "        T = np.linspace(T[difference_of_s.argmin()]-3, T[difference_of_s.argmin()]+3, 600)\n",
    "        s_bar_above0 = R_u*(a*np.log(T) + b*T + c/2*T**2 + d/3*T**3 + e/4*T**4) \n",
    "        s_above0 = R/R_u*s_bar_above0 \n",
    "        difference_of_s = np.abs(s_above0-R*math.log(P/P_ref)-data['s'])\n",
    "        T_answer = T[difference_of_s.argmin()]\n",
    "        dic = properties({'P':P , 'T':T_answer})\n",
    "        C_p, h = dic['C_p[kj/kg-k]'], dic['h[kj/kg]']\n",
    "        return {'P[bar]':P, 'T[k]':T_answer, 'C_p[kj/kg-k]':C_p, 'h[kj/kg]':h, 's[kj/kg-k]':data['s']}\n",
    "    \n",
    "    #Scenario3: When P and h are given:\n",
    "    \n",
    "    if ('P' in data) & ('h' in data):\n",
    "        P = data['P']\n",
    "        T = np.array(range(300, 2000))\n",
    "        h_bar = R_u*T*(a + b/2*T + c/3*T**2 + d/4*T**3 + e/5*T**4)\n",
    "        h = R/R_u*h_bar \n",
    "        difference_of_h = np.abs(h-data['h'])\n",
    "        T = np.linspace(T[difference_of_h.argmin()]-3, T[difference_of_h.argmin()]+3, 600)\n",
    "        h_bar = R_u*T*(a + b/2*T + c/3*T**2 + d/4*T**3 + e/5*T**4)\n",
    "        h = R/R_u*h_bar \n",
    "        difference_of_h = np.abs(h-data['h'])\n",
    "        T_answer = T[difference_of_h.argmin()]\n",
    "        dic = properties({'P':P , 'T':T_answer})\n",
    "        C_p, s = dic['C_p[kj/kg-k]'], dic['s[kj/kg-k]']\n",
    "        return {'P[bar]':P, 'T[k]':T_answer, 'C_p[kj/kg-k]':C_p, 'h[kj/kg]':data['h'], 's[kj/kg-k]':s}\n",
    "    \n",
    "    #Scenario4: When h and s are given:\n",
    "    \n",
    "    if ('h' in data) & ('s' in data):\n",
    "        T = np.array(range(300, 2000))\n",
    "        h_bar = R_u*T*(a + b/2*T + c/3*T**2 + d/4*T**3 + e/5*T**4)\n",
    "        h = R/R_u*h_bar \n",
    "        difference_of_h = np.abs(h-data['h'])\n",
    "        T = np.linspace(T[difference_of_h.argmin()]-3, T[difference_of_h.argmin()]+3, 600)\n",
    "        h_bar = R_u*T*(a + b/2*T + c/3*T**2 + d/4*T**3 + e/5*T**4)\n",
    "        h = R/R_u*h_bar \n",
    "        difference_of_h = np.abs(h-data['h'])\n",
    "        T_answer = T[difference_of_h.argmin()]\n",
    "        T = T_answer\n",
    "        s = data['s']\n",
    "        s_bar_above0 = R_u*(a*math.log(T) + b*T + c/2*T**2 + d/3*T**3 + e/4*T**4) \n",
    "        s_above0 = R/R_u*s_bar_above0\n",
    "        P = P_ref*math.exp((s_above0-s)/R)\n",
    "        C_p_bar = R_u*(a + b*T + c*T**2 + d*T**3 + e*T**4) \n",
    "        C_p = R/R_u*C_p_bar\n",
    "        return {'P[bar]':P, 'T[k]':T, 'C_p[kj/kg-k]':C_p, 'h[kj/kg]':data['h'], 's[kj/kg-k]':data['s']}\n",
    "    \n",
    "        \n",
    "    return {}\n"
   ]
  },
  {
   "cell_type": "code",
   "execution_count": 6,
   "id": "1d3a04f4-1c49-45a4-8920-c23f764ec5fb",
   "metadata": {},
   "outputs": [],
   "source": [
    "point1 = {'P':1 , 'T':300}  #P in bar and T in k"
   ]
  },
  {
   "cell_type": "code",
   "execution_count": 7,
   "id": "9e89552b-6ed5-4b2d-9c48-81d8a387bfe0",
   "metadata": {},
   "outputs": [],
   "source": [
    "Properties1 = properties(point1) "
   ]
  },
  {
   "cell_type": "code",
   "execution_count": 8,
   "id": "f6e687e9-43e5-496a-810d-2c7ee87e3b07",
   "metadata": {},
   "outputs": [
    {
     "data": {
      "text/plain": [
       "{'P[bar]': 1,\n",
       " 'T[k]': 300,\n",
       " 'C_p[kj/kg-k]': 1.0045354971741467,\n",
       " 'h[kj/kg]': 304.76511887228247,\n",
       " 's[kj/kg-k]': 5.903583614724041}"
      ]
     },
     "execution_count": 8,
     "metadata": {},
     "output_type": "execute_result"
    }
   ],
   "source": [
    "Properties1"
   ]
  },
  {
   "cell_type": "code",
   "execution_count": 9,
   "id": "5af23756-8dfc-441f-a68b-c8530bde05b6",
   "metadata": {},
   "outputs": [],
   "source": [
    "point2 = {'P':1 , 'T':500} #P in bar and T in k"
   ]
  },
  {
   "cell_type": "code",
   "execution_count": 10,
   "id": "9be8723b-9064-4bdd-b92d-a25cb8da7846",
   "metadata": {},
   "outputs": [],
   "source": [
    "Properties2 = properties(point2) "
   ]
  },
  {
   "cell_type": "code",
   "execution_count": 11,
   "id": "f9f564ff-107b-4acd-bf06-56d9e1f05867",
   "metadata": {},
   "outputs": [
    {
     "data": {
      "text/plain": [
       "{'P[bar]': 1,\n",
       " 'T[k]': 500,\n",
       " 'C_p[kj/kg-k]': 1.0296628956971763,\n",
       " 'h[kj/kg]': 507.70032142573547,\n",
       " 's[kj/kg-k]': 6.421365514096027}"
      ]
     },
     "execution_count": 11,
     "metadata": {},
     "output_type": "execute_result"
    }
   ],
   "source": [
    "Properties2"
   ]
  },
  {
   "cell_type": "code",
   "execution_count": 12,
   "id": "81b5a855-8b22-461d-b71a-3f45c592b473",
   "metadata": {},
   "outputs": [],
   "source": [
    "delta_h = Properties2['h[kj/kg]']-Properties1['h[kj/kg]']"
   ]
  },
  {
   "cell_type": "code",
   "execution_count": 13,
   "id": "e365f2ea-9559-4f7e-98cb-abd2db0c958e",
   "metadata": {},
   "outputs": [],
   "source": [
    "delta_s = Properties2['s[kj/kg-k]']-Properties1['s[kj/kg-k]']"
   ]
  },
  {
   "cell_type": "markdown",
   "id": "2b95f285-1a9a-4da7-99b4-e0f964875848",
   "metadata": {},
   "source": [
    "# Part 2"
   ]
  },
  {
   "cell_type": "markdown",
   "id": "000184af-68c1-4288-9487-b3a5e967c931",
   "metadata": {},
   "source": [
    "## Point 1"
   ]
  },
  {
   "cell_type": "markdown",
   "id": "1b2b8ccb-98d5-4d1a-b56a-48e4dd37efe2",
   "metadata": {},
   "source": [
    "at the inlet of the compressor we have P01 and T01:"
   ]
  },
  {
   "cell_type": "code",
   "execution_count": 15,
   "id": "fb0d1c86-b728-4f2d-ac58-ffa71165070a",
   "metadata": {},
   "outputs": [],
   "source": [
    "P01 = 1      #bar\n",
    "T01 = 300    #k"
   ]
  },
  {
   "cell_type": "code",
   "execution_count": 16,
   "id": "63c1faf7-cfc1-44e6-bde3-c949c50c3d6e",
   "metadata": {},
   "outputs": [],
   "source": [
    "point_01 ={'P':P01,'T':T01}"
   ]
  },
  {
   "cell_type": "code",
   "execution_count": 17,
   "id": "1e455ab5-db76-4e24-8b1e-30d3229ae480",
   "metadata": {},
   "outputs": [],
   "source": [
    "Properties_01 = properties(point_01) "
   ]
  },
  {
   "cell_type": "code",
   "execution_count": 18,
   "id": "19dc9057-fe87-4a16-9083-d5f77b96dba3",
   "metadata": {},
   "outputs": [
    {
     "data": {
      "text/plain": [
       "{'P[bar]': 1,\n",
       " 'T[k]': 300,\n",
       " 'C_p[kj/kg-k]': 1.0045354971741467,\n",
       " 'h[kj/kg]': 304.76511887228247,\n",
       " 's[kj/kg-k]': 5.903583614724041}"
      ]
     },
     "execution_count": 18,
     "metadata": {},
     "output_type": "execute_result"
    }
   ],
   "source": [
    "Properties_01"
   ]
  },
  {
   "cell_type": "markdown",
   "id": "1321dc9f-b0dc-4329-8354-627f5de3cad9",
   "metadata": {},
   "source": [
    "## Point 2"
   ]
  },
  {
   "cell_type": "markdown",
   "id": "bb10a8f6-7a21-4cb8-891b-6112576caaac",
   "metadata": {},
   "source": [
    "The Compressor Compression Ratio is given and is equal to:"
   ]
  },
  {
   "cell_type": "code",
   "execution_count": 19,
   "id": "1858122d-3f15-4cc6-a3e8-975f1c6c4ad9",
   "metadata": {},
   "outputs": [],
   "source": [
    "r_c = 12"
   ]
  },
  {
   "cell_type": "markdown",
   "id": "b09e4ccb-8af8-4184-baa0-ad2c16d87e86",
   "metadata": {},
   "source": [
    "So We can find P02:"
   ]
  },
  {
   "cell_type": "code",
   "execution_count": 20,
   "id": "61b20aa1-45c9-4ce7-afc0-c3a1fb297af2",
   "metadata": {},
   "outputs": [],
   "source": [
    "P02 = r_c*P01"
   ]
  },
  {
   "cell_type": "markdown",
   "id": "658daa43-d741-49d3-9469-d533b7d33950",
   "metadata": {},
   "source": [
    "for this Point We can act like this:"
   ]
  },
  {
   "cell_type": "code",
   "execution_count": 21,
   "id": "c44f8b28-8d53-4b67-8ecb-b3abaa26b2cb",
   "metadata": {},
   "outputs": [],
   "source": [
    "s02_s = Properties_01['s[kj/kg-k]']"
   ]
  },
  {
   "cell_type": "code",
   "execution_count": 22,
   "id": "63097233-a51b-4b64-8519-5f244fc29ea3",
   "metadata": {},
   "outputs": [],
   "source": [
    "point_02s = {'P':P02, 's':s02_s}"
   ]
  },
  {
   "cell_type": "code",
   "execution_count": 23,
   "id": "c0778398-c529-455c-84f5-878a4b5859be",
   "metadata": {},
   "outputs": [],
   "source": [
    "Properties_02s = properties(point_02s) "
   ]
  },
  {
   "cell_type": "code",
   "execution_count": 24,
   "id": "4a85c99c-d298-4fe6-a451-68c7238a8fd3",
   "metadata": {},
   "outputs": [
    {
     "data": {
      "text/plain": [
       "{'P[bar]': 12,\n",
       " 'T[k]': 603.4056761268781,\n",
       " 'C_p[kj/kg-k]': 1.0514629718103226,\n",
       " 'h[kj/kg]': 615.2669601538392,\n",
       " 's[kj/kg-k]': 5.903583614724041}"
      ]
     },
     "execution_count": 24,
     "metadata": {},
     "output_type": "execute_result"
    }
   ],
   "source": [
    "Properties_02s"
   ]
  },
  {
   "cell_type": "markdown",
   "id": "3b78b93d-8468-4cd4-9f7e-d4a71d108e18",
   "metadata": {},
   "source": [
    "from the equation of isentropic efficiency we can find ${h_{0}}_{2}$ and by that we are able to find the properties of the flow at the point 2 (outlet of the compressor):"
   ]
  },
  {
   "cell_type": "code",
   "execution_count": 25,
   "id": "03a52e0f-610d-4ae9-aa06-392dbaf055d3",
   "metadata": {},
   "outputs": [],
   "source": [
    "h02s =Properties_02s['h[kj/kg]']\n",
    "h01 = Properties_01['h[kj/kg]']"
   ]
  },
  {
   "cell_type": "code",
   "execution_count": 26,
   "id": "ce3fd4c2-edd4-4381-a411-72de442ea437",
   "metadata": {},
   "outputs": [],
   "source": [
    "h02 = h01+(h02s-h01)/etta_is_c"
   ]
  },
  {
   "cell_type": "markdown",
   "id": "a10f273b-a684-48ef-a4ea-24d0415e5891",
   "metadata": {},
   "source": [
    "Now we can act like this:"
   ]
  },
  {
   "cell_type": "code",
   "execution_count": 27,
   "id": "8d096bbe-ecf9-4b8d-bf09-18544c397138",
   "metadata": {},
   "outputs": [],
   "source": [
    "point_02 = {'P':P02, 'h':h02}"
   ]
  },
  {
   "cell_type": "code",
   "execution_count": 28,
   "id": "83ec2825-4ab8-4e57-bff4-5c6626edf55e",
   "metadata": {},
   "outputs": [],
   "source": [
    "Properties_02 = properties(point_02) "
   ]
  },
  {
   "cell_type": "code",
   "execution_count": 29,
   "id": "67ccc666-b872-4910-ac4d-d8268115af48",
   "metadata": {},
   "outputs": [
    {
     "data": {
      "text/plain": [
       "{'P[bar]': 12,\n",
       " 'T[k]': 659.3055091819699,\n",
       " 'C_p[kj/kg-k]': 1.0645147997300364,\n",
       " 'h[kj/kg]': 674.4101680169929,\n",
       " 's[kj/kg-k]': 5.997303946481227}"
      ]
     },
     "execution_count": 29,
     "metadata": {},
     "output_type": "execute_result"
    }
   ],
   "source": [
    "Properties_02"
   ]
  },
  {
   "cell_type": "markdown",
   "id": "dec3f8d0-c9aa-443e-a200-45aaee948b46",
   "metadata": {},
   "source": [
    "## Point 3"
   ]
  },
  {
   "cell_type": "markdown",
   "id": "cbfb5bed-e8c7-4103-afa5-28d520ecd30d",
   "metadata": {},
   "source": [
    "Because We don't have any loss of pressure in the combustion chamber, We will have:"
   ]
  },
  {
   "cell_type": "code",
   "execution_count": 30,
   "id": "4fd3d045-bab8-4231-a5f5-ee0d19be038b",
   "metadata": {},
   "outputs": [],
   "source": [
    "P03 = P02"
   ]
  },
  {
   "cell_type": "markdown",
   "id": "fcefbec0-3f82-4899-8fe8-51b34562838c",
   "metadata": {},
   "source": [
    "and also we have the Turbine Inlet Temperature(TIT):"
   ]
  },
  {
   "cell_type": "code",
   "execution_count": 31,
   "id": "6582c379-94df-4464-a7ae-6a9b3913bdae",
   "metadata": {},
   "outputs": [],
   "source": [
    "T03 = TIT"
   ]
  },
  {
   "cell_type": "code",
   "execution_count": 32,
   "id": "fdaf1821-13cd-4531-b2ec-0acf18690a72",
   "metadata": {},
   "outputs": [],
   "source": [
    "point_03 = {'P':P03, 'T':T03}"
   ]
  },
  {
   "cell_type": "code",
   "execution_count": 33,
   "id": "18a1e261-0698-424c-bd61-0d3f487887bd",
   "metadata": {},
   "outputs": [],
   "source": [
    "Properties_03 = properties(point_03) "
   ]
  },
  {
   "cell_type": "code",
   "execution_count": 34,
   "id": "f504f64f-d17d-4eba-8d65-636ab5bdfdf0",
   "metadata": {},
   "outputs": [
    {
     "data": {
      "text/plain": [
       "{'P[bar]': 12,\n",
       " 'T[k]': 1000,\n",
       " 'C_p[kj/kg-k]': 1.140980227656423,\n",
       " 'h[kj/kg]': 1050.706446122349,\n",
       " 's[kj/kg-k]': 6.456285190272438}"
      ]
     },
     "execution_count": 34,
     "metadata": {},
     "output_type": "execute_result"
    }
   ],
   "source": [
    "Properties_03"
   ]
  },
  {
   "cell_type": "markdown",
   "id": "84243a26-05da-4323-add2-00c63a2254e8",
   "metadata": {},
   "source": [
    "## Point 4"
   ]
  },
  {
   "cell_type": "markdown",
   "id": "05f646c3-00e3-4749-ab59-eb9ae5ce66a7",
   "metadata": {},
   "source": [
    "We have total pressure at the outlet of the turbine:"
   ]
  },
  {
   "cell_type": "code",
   "execution_count": 35,
   "id": "c751a083-dbfb-49a3-bbdf-eb038401f4fe",
   "metadata": {},
   "outputs": [],
   "source": [
    "P04 = 1.5   #bar"
   ]
  },
  {
   "cell_type": "code",
   "execution_count": 36,
   "id": "aa9cb87c-fbb0-464a-87fd-d9b48aa9e74e",
   "metadata": {},
   "outputs": [],
   "source": [
    "s04_s = Properties_03['s[kj/kg-k]']"
   ]
  },
  {
   "cell_type": "code",
   "execution_count": 37,
   "id": "2bdb2e84-41a5-400d-8a47-994289e46c8f",
   "metadata": {},
   "outputs": [],
   "source": [
    "point_04s = {'P':P04, 's':s04_s}"
   ]
  },
  {
   "cell_type": "code",
   "execution_count": 38,
   "id": "117ef07f-636f-4561-a423-b321b91ad332",
   "metadata": {},
   "outputs": [],
   "source": [
    "Properties_04s = properties(point_04s) "
   ]
  },
  {
   "cell_type": "code",
   "execution_count": 39,
   "id": "6e9981db-7914-476b-aa34-4fdc15941f1a",
   "metadata": {},
   "outputs": [
    {
     "data": {
      "text/plain": [
       "{'P[bar]': 1.5,\n",
       " 'T[k]': 578.5141903171954,\n",
       " 'C_p[kj/kg-k]': 1.045879890344605,\n",
       " 'h[kj/kg]': 589.1643250564591,\n",
       " 's[kj/kg-k]': 6.456285190272438}"
      ]
     },
     "execution_count": 39,
     "metadata": {},
     "output_type": "execute_result"
    }
   ],
   "source": [
    "Properties_04s"
   ]
  },
  {
   "cell_type": "markdown",
   "id": "d0a46243-de7e-498b-b23a-05f8a85655f8",
   "metadata": {},
   "source": [
    "from the equation of isentropic efficiency we can find ${h_{0}}_{4}$ and by that we are able to find the properties of the flow at the point 4 (outlet of the turbine):"
   ]
  },
  {
   "cell_type": "code",
   "execution_count": 40,
   "id": "263f2d89-d032-491d-8eb8-1307aa321744",
   "metadata": {},
   "outputs": [],
   "source": [
    "h03 = Properties_03['h[kj/kg]']\n",
    "h04s = Properties_04s['h[kj/kg]']"
   ]
  },
  {
   "cell_type": "code",
   "execution_count": 41,
   "id": "a8b36ab6-7786-47c7-a2fe-5e24ccbe68c9",
   "metadata": {},
   "outputs": [],
   "source": [
    "h04 = h03-etta_is_t*(h03-h04s)"
   ]
  },
  {
   "cell_type": "code",
   "execution_count": 42,
   "id": "7b05d616-28ba-41c6-a4d2-5e6b028158ed",
   "metadata": {},
   "outputs": [],
   "source": [
    "point_04 = {'P':P04, 'h':h04}"
   ]
  },
  {
   "cell_type": "code",
   "execution_count": 43,
   "id": "2b4e6f95-d45e-45ef-b455-a4a1fd2e3ff8",
   "metadata": {},
   "outputs": [],
   "source": [
    "Properties_04 = properties(point_04) "
   ]
  },
  {
   "cell_type": "code",
   "execution_count": 44,
   "id": "cf391aa2-2db0-4108-ab3e-8292b161d88d",
   "metadata": {},
   "outputs": [
    {
     "data": {
      "text/plain": [
       "{'P[bar]': 1.5,\n",
       " 'T[k]': 639.8848080133556,\n",
       " 'C_p[kj/kg-k]': 1.0599150808497755,\n",
       " 'h[kj/kg]': 653.7802220056838,\n",
       " 's[kj/kg-k]': 6.562426354210015}"
      ]
     },
     "execution_count": 44,
     "metadata": {},
     "output_type": "execute_result"
    }
   ],
   "source": [
    "Properties_04"
   ]
  },
  {
   "cell_type": "markdown",
   "id": "3ba05aae-5cb8-4c4d-94cb-639ea9c6c076",
   "metadata": {},
   "source": [
    "## total efficiency"
   ]
  },
  {
   "cell_type": "code",
   "execution_count": 45,
   "id": "a3d474cb-3708-4c4f-9d28-d664d08e6ef0",
   "metadata": {},
   "outputs": [],
   "source": [
    "W_net_is = (h03-h04s)-(h02s-h01)"
   ]
  },
  {
   "cell_type": "code",
   "execution_count": 46,
   "id": "78ea5fc1-d417-404e-a9ad-c51181b410fa",
   "metadata": {},
   "outputs": [],
   "source": [
    "W_net_ac = (h03-h04)-(h02-h01)"
   ]
  },
  {
   "cell_type": "code",
   "execution_count": 47,
   "id": "5ba6f3e6-7f8c-4900-b76e-fe6f1db8b85c",
   "metadata": {},
   "outputs": [],
   "source": [
    "etta_total = W_net_ac/W_net_is"
   ]
  },
  {
   "cell_type": "markdown",
   "id": "fff3ae47-1d0b-4211-8b81-52543528ac65",
   "metadata": {},
   "source": [
    "## Properties"
   ]
  },
  {
   "cell_type": "code",
   "execution_count": 49,
   "id": "5564cd4d-4eae-4276-8092-819faebc63b1",
   "metadata": {},
   "outputs": [],
   "source": [
    "Properties = {\n",
    "    'Point 1' : Properties_01,\n",
    "    'Point 2s': Properties_02s,\n",
    "    'Point 2' : Properties_02,\n",
    "    'Point 3' : Properties_03,\n",
    "    'Point 4s': Properties_04s,\n",
    "    'Point 4' : Properties_04\n",
    "}"
   ]
  },
  {
   "cell_type": "code",
   "execution_count": 50,
   "id": "31a42171-04fb-49eb-b429-a8c6ecc56b2e",
   "metadata": {},
   "outputs": [],
   "source": [
    "df = pd.DataFrame(Properties).T"
   ]
  },
  {
   "cell_type": "code",
   "execution_count": 51,
   "id": "db63c94d-554a-41d8-9403-1c685e100ebc",
   "metadata": {},
   "outputs": [
    {
     "data": {
      "text/html": [
       "<div>\n",
       "<style scoped>\n",
       "    .dataframe tbody tr th:only-of-type {\n",
       "        vertical-align: middle;\n",
       "    }\n",
       "\n",
       "    .dataframe tbody tr th {\n",
       "        vertical-align: top;\n",
       "    }\n",
       "\n",
       "    .dataframe thead th {\n",
       "        text-align: right;\n",
       "    }\n",
       "</style>\n",
       "<table border=\"1\" class=\"dataframe\">\n",
       "  <thead>\n",
       "    <tr style=\"text-align: right;\">\n",
       "      <th></th>\n",
       "      <th>P[bar]</th>\n",
       "      <th>T[k]</th>\n",
       "      <th>C_p[kj/kg-k]</th>\n",
       "      <th>h[kj/kg]</th>\n",
       "      <th>s[kj/kg-k]</th>\n",
       "    </tr>\n",
       "  </thead>\n",
       "  <tbody>\n",
       "    <tr>\n",
       "      <th>Point 1</th>\n",
       "      <td>1.0</td>\n",
       "      <td>300.000000</td>\n",
       "      <td>1.004535</td>\n",
       "      <td>304.765119</td>\n",
       "      <td>5.903584</td>\n",
       "    </tr>\n",
       "    <tr>\n",
       "      <th>Point 2s</th>\n",
       "      <td>12.0</td>\n",
       "      <td>603.405676</td>\n",
       "      <td>1.051463</td>\n",
       "      <td>615.266960</td>\n",
       "      <td>5.903584</td>\n",
       "    </tr>\n",
       "    <tr>\n",
       "      <th>Point 2</th>\n",
       "      <td>12.0</td>\n",
       "      <td>659.305509</td>\n",
       "      <td>1.064515</td>\n",
       "      <td>674.410168</td>\n",
       "      <td>5.997304</td>\n",
       "    </tr>\n",
       "    <tr>\n",
       "      <th>Point 3</th>\n",
       "      <td>12.0</td>\n",
       "      <td>1000.000000</td>\n",
       "      <td>1.140980</td>\n",
       "      <td>1050.706446</td>\n",
       "      <td>6.456285</td>\n",
       "    </tr>\n",
       "    <tr>\n",
       "      <th>Point 4s</th>\n",
       "      <td>1.5</td>\n",
       "      <td>578.514190</td>\n",
       "      <td>1.045880</td>\n",
       "      <td>589.164325</td>\n",
       "      <td>6.456285</td>\n",
       "    </tr>\n",
       "    <tr>\n",
       "      <th>Point 4</th>\n",
       "      <td>1.5</td>\n",
       "      <td>639.884808</td>\n",
       "      <td>1.059915</td>\n",
       "      <td>653.780222</td>\n",
       "      <td>6.562426</td>\n",
       "    </tr>\n",
       "  </tbody>\n",
       "</table>\n",
       "</div>"
      ],
      "text/plain": [
       "          P[bar]         T[k]  C_p[kj/kg-k]     h[kj/kg]  s[kj/kg-k]\n",
       "Point 1      1.0   300.000000      1.004535   304.765119    5.903584\n",
       "Point 2s    12.0   603.405676      1.051463   615.266960    5.903584\n",
       "Point 2     12.0   659.305509      1.064515   674.410168    5.997304\n",
       "Point 3     12.0  1000.000000      1.140980  1050.706446    6.456285\n",
       "Point 4s     1.5   578.514190      1.045880   589.164325    6.456285\n",
       "Point 4      1.5   639.884808      1.059915   653.780222    6.562426"
      ]
     },
     "execution_count": 51,
     "metadata": {},
     "output_type": "execute_result"
    }
   ],
   "source": [
    "df"
   ]
  },
  {
   "cell_type": "code",
   "execution_count": null,
   "id": "7c191a00-c1c8-4537-ad4d-c036c614abf6",
   "metadata": {},
   "outputs": [],
   "source": []
  }
 ],
 "metadata": {
  "kernelspec": {
   "display_name": "Python 3 (ipykernel)",
   "language": "python",
   "name": "python3"
  },
  "language_info": {
   "codemirror_mode": {
    "name": "ipython",
    "version": 3
   },
   "file_extension": ".py",
   "mimetype": "text/x-python",
   "name": "python",
   "nbconvert_exporter": "python",
   "pygments_lexer": "ipython3",
   "version": "3.8.13"
  }
 },
 "nbformat": 4,
 "nbformat_minor": 5
}
